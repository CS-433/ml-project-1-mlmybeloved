{
 "cells": [
  {
   "cell_type": "markdown",
   "id": "0ce48c91",
   "metadata": {},
   "source": [
    "## Imports"
   ]
  },
  {
   "cell_type": "code",
   "execution_count": 3,
   "id": "e36b7a6e",
   "metadata": {},
   "outputs": [],
   "source": [
    "%matplotlib inline\n",
    "import numpy as np\n",
    "import matplotlib.pyplot as plt\n",
    "from implementations import *\n",
    "%load_ext autoreload\n",
    "%autoreload 2"
   ]
  },
  {
   "cell_type": "markdown",
   "id": "fbd8eeb2",
   "metadata": {},
   "source": [
    "## Assignment"
   ]
  },
  {
   "cell_type": "markdown",
   "id": "58af40ee",
   "metadata": {},
   "source": [
    "### Pre-processing"
   ]
  },
  {
   "cell_type": "code",
   "execution_count": 4,
   "id": "37127a98",
   "metadata": {},
   "outputs": [],
   "source": [
    "# In a single cell because it takes a long time and doesn't need to be ran everytime\n",
    "y, x = load_data(train=True, DER=True) # Load data\n",
    "y_indexes, x_test = load_data(train=False, DER=True)"
   ]
  },
  {
   "cell_type": "code",
   "execution_count": 6,
   "id": "b9e2f596",
   "metadata": {},
   "outputs": [],
   "source": [
    "x_tr, x_te, y_tr, y_te = split_data(x, y, 0.8, np.random.seed())\n",
    "x_tr = replace_min_999_by_col_mean(x_tr) # Handle invalid values\n",
    "x_te = replace_min_999_by_col_mean(x_te)\n",
    "\n",
    "x_tr = build_poly_2(x_tr) # Poly exp deg=2\n",
    "x_te = build_poly_2(x_te)\n",
    "\n",
    "x_tr, mean_x_tr, std_x_tr = standardize(x_tr) # Standardize x\n",
    "x_te, mean_x_te, std_x_te = standardize(x_te)\n",
    "\n",
    "tx_tr = add_x_bias(x_tr) # Add bias after normalisation to avoid NaNs\n",
    "tx_te = add_x_bias(x_te)"
   ]
  },
  {
   "cell_type": "code",
   "execution_count": 9,
   "id": "e399d422",
   "metadata": {},
   "outputs": [
    {
     "name": "stdout",
     "output_type": "stream",
     "text": [
      "(200000, 105)\n"
     ]
    }
   ],
   "source": [
    "print(tx_tr.shape)"
   ]
  },
  {
   "cell_type": "markdown",
   "id": "fd04e81f",
   "metadata": {},
   "source": [
    "### Linear regression using gradient descent"
   ]
  },
  {
   "cell_type": "code",
   "execution_count": 13,
   "id": "f3baccc1",
   "metadata": {},
   "outputs": [
    {
     "name": "stdout",
     "output_type": "stream",
     "text": [
      "Epoch 0 : Training loss: 0.16196306514657458 Test loss: 0.1614084122851581\n",
      "Epoch 1 : Training loss: 0.15573404683367545 Test loss: 0.1552173893615872\n",
      "Epoch 2 : Training loss: 0.15130635890528607 Test loss: 0.1508208073069984\n",
      "Epoch 3 : Training loss: 0.14791364880447389 Test loss: 0.1474553171679714\n",
      "Epoch 4 : Training loss: 0.1451440550033585 Test loss: 0.1447106677469589\n",
      "Epoch 5 : Training loss: 0.14276974596652842 Test loss: 0.14235986535315281\n",
      "Epoch 6 : Training loss: 0.1406604932715894 Test loss: 0.14027310110230845\n",
      "Epoch 7 : Training loss: 0.1387391342608579 Test loss: 0.1383734117509502\n",
      "Epoch 8 : Training loss: 0.1369581748719093 Test loss: 0.13661339126093974\n",
      "Epoch 9 : Training loss: 0.13528722115882785 Test loss: 0.13496268067347691\n",
      "Epoch 10 : Training loss: 0.1337060562117992 Test loss: 0.1334010754842364\n",
      "Epoch 11 : Training loss: 0.13220072080521836 Test loss: 0.13191462157077838\n",
      "Epoch 12 : Training loss: 0.13076122931706366 Test loss: 0.13049333830035692\n",
      "Epoch 13 : Training loss: 0.12938019853959004 Test loss: 0.12912985032450885\n",
      "Epoch 14 : Training loss: 0.12805199987435523 Test loss: 0.12781854065090745\n",
      "Epoch 15 : Training loss: 0.12677221995130863 Test loss: 0.12655501114352113\n",
      "Epoch 16 : Training loss: 0.12553730806984675 Test loss: 0.12533572942434756\n",
      "Epoch 17 : Training loss: 0.12434433989013689 Test loss: 0.12415779189350021\n",
      "Epoch 18 : Training loss: 0.12319085534989688 Test loss: 0.12301876098035507\n",
      "Epoch 19 : Training loss: 0.1220747451387761 Test loss: 0.12191655101765475\n",
      "Epoch 20 : Training loss: 0.12099416966438836 Test loss: 0.12084934669341262\n",
      "Epoch 21 : Training loss: 0.11994750021682993 Test loss: 0.11981554378954586\n",
      "Epoch 22 : Training loss: 0.11893327559051331 Test loss: 0.11881370545982108\n",
      "Epoch 23 : Training loss: 0.11795016965670516 Test loss: 0.11784252953107982\n",
      "Epoch 24 : Training loss: 0.11699696681585851 Test loss: 0.1169008237467249\n",
      "Epoch 25 : Training loss: 0.11607254319983418 Test loss: 0.11598748681289534\n",
      "Epoch 26 : Training loss: 0.11517585212258635 Test loss: 0.1151014937371356\n",
      "Epoch 27 : Training loss: 0.11430591270512552 Test loss: 0.11424188437764018\n",
      "Epoch 28 : Training loss: 0.11346180089586452 Test loss: 0.11340775441747536\n",
      "Epoch 29 : Training loss: 0.11264264231472843 Test loss: 0.11259824818640908\n",
      "Epoch 30 : Training loss: 0.11184760649699302 Test loss: 0.11181255290142605\n",
      "Epoch 31 : Training loss: 0.11107590221928378 Test loss: 0.11104989400423644\n",
      "Epoch 32 : Training loss: 0.1103267736678923 Test loss: 0.11030953135248009\n",
      "Epoch 33 : Training loss: 0.10959949726691329 Test loss: 0.10959075607925937\n",
      "Epoch 34 : Training loss: 0.1088933790264246 Test loss: 0.10889288797885412\n",
      "Epoch 35 : Training loss: 0.1082077523030216 Test loss: 0.10821527330899468\n",
      "Epoch 36 : Training loss: 0.10754197588929784 Test loss: 0.10755728292471962\n",
      "Epoch 37 : Training loss: 0.10689543236736031 Test loss: 0.10691831067765158\n",
      "Epoch 38 : Training loss: 0.10626752667563288 Test loss: 0.10629777202895485\n",
      "Epoch 39 : Training loss: 0.10565768484910616 Test loss: 0.10569510283536357\n",
      "Epoch 40 : Training loss: 0.10506535290162483 Test loss: 0.1051097582762841\n",
      "Epoch 41 : Training loss: 0.10448999582534885 Test loss: 0.10454121189667111\n",
      "Epoch 42 : Training loss: 0.10393109668762329 Test loss: 0.10398895474559992\n",
      "Epoch 43 : Training loss: 0.10338815580947901 Test loss: 0.10345249459454332\n",
      "Epoch 44 : Training loss: 0.10286069001311068 Test loss: 0.10293135522256526\n",
      "Epoch 45 : Training loss: 0.10234823192813755 Test loss: 0.10242507575816812\n",
      "Epoch 46 : Training loss: 0.101850329348392 Test loss: 0.10193321006951678\n",
      "Epoch 47 : Training loss: 0.10136654463251471 Test loss: 0.10145532619633704\n",
      "Epoch 48 : Training loss: 0.10089645414285411 Test loss: 0.10099100581803216\n",
      "Epoch 49 : Training loss: 0.10043964771813685 Test loss: 0.10053984375355239\n",
      "Epoch 50 : Training loss: 0.09999572817615242 Test loss: 0.10010144748934321\n",
      "Epoch 51 : Training loss: 0.09956431084331528 Test loss: 0.09967543673232888\n",
      "Epoch 52 : Training loss: 0.09914502310846904 Test loss: 0.09926144298539444\n",
      "Epoch 53 : Training loss: 0.09873750399870158 Test loss: 0.09885910914323776\n",
      "Epoch 54 : Training loss: 0.0983414037752682 Test loss: 0.09846808910679111\n",
      "Epoch 55 : Training loss: 0.0979563835479887 Test loss: 0.09808804741467965\n",
      "Epoch 56 : Training loss: 0.09758211490670354 Test loss: 0.09771865889040128\n",
      "Epoch 57 : Training loss: 0.09721827956855472 Test loss: 0.09735960830408924\n",
      "Epoch 58 : Training loss: 0.09686456904000891 Test loss: 0.09701059004786625\n",
      "Epoch 59 : Training loss: 0.09652068429266487 Test loss: 0.09667130782391824\n",
      "Epoch 60 : Training loss: 0.09618633545199085 Test loss: 0.0963414743445171\n",
      "Epoch 61 : Training loss: 0.09586124149822968 Test loss: 0.09602081104330491\n",
      "Epoch 62 : Training loss: 0.09554512997878159 Test loss: 0.09570904779722306\n",
      "Epoch 63 : Training loss: 0.09523773673144123 Test loss: 0.0954059226585292\n",
      "Epoch 64 : Training loss: 0.09493880561791962 Test loss: 0.09511118159639495\n",
      "Epoch 65 : Training loss: 0.09464808826713185 Test loss: 0.09482457824762275\n",
      "Epoch 66 : Training loss: 0.09436534382777027 Test loss: 0.09454587367605502\n",
      "Epoch 67 : Training loss: 0.09409033872972312 Test loss: 0.09427483614028485\n",
      "Epoch 68 : Training loss: 0.09382284645392851 Test loss: 0.09401124086930275\n",
      "Epoch 69 : Training loss: 0.09356264731028334 Test loss: 0.0937548698457413\n",
      "Epoch 70 : Training loss: 0.09330952822325286 Test loss: 0.09350551159640133\n",
      "Epoch 71 : Training loss: 0.09306328252484906 Test loss: 0.09326296098976286\n",
      "Epoch 72 : Training loss: 0.09282370975466686 Test loss: 0.09302701904020197\n",
      "Epoch 73 : Training loss: 0.09259061546668644 Test loss: 0.09279749271865105\n",
      "Epoch 74 : Training loss: 0.09236381104256604 Test loss: 0.09257419476945455\n",
      "Epoch 75 : Training loss: 0.09214311351116636 Test loss: 0.09235694353318495\n",
      "Epoch 76 : Training loss: 0.09192834537406153 Test loss: 0.0921455627751969\n",
      "Epoch 77 : Training loss: 0.09171933443680362 Test loss: 0.0919398815197077\n",
      "Epoch 78 : Training loss: 0.0915159136457218 Test loss: 0.09173973388920283\n",
      "Epoch 79 : Training loss: 0.09131792093004677 Test loss: 0.09154495894897569\n",
      "Epoch 80 : Training loss: 0.09112519904916172 Test loss: 0.09135540055661746\n",
      "Epoch 81 : Training loss: 0.09093759544479146 Test loss: 0.09117090721628389\n",
      "Epoch 82 : Training loss: 0.0907549620979492 Test loss: 0.09099133193757096\n",
      "Epoch 83 : Training loss: 0.09057715539046961 Test loss: 0.09081653209884083\n",
      "Epoch 84 : Training loss: 0.09040403597096426 Test loss: 0.09064636931484431\n",
      "Epoch 85 : Training loss: 0.09023546862504273 Test loss: 0.09048070930849406\n",
      "Epoch 86 : Training loss: 0.0900713221496499 Test loss: 0.0903194217866472\n",
      "Epoch 87 : Training loss: 0.08991146923137569 Test loss: 0.09016238031976309\n",
      "Epoch 88 : Training loss: 0.08975578632860076 Test loss: 0.09000946222530651\n",
      "Epoch 89 : Training loss: 0.08960415355734568 Test loss: 0.08986054845477137\n",
      "Epoch 90 : Training loss: 0.08945645458069851 Test loss: 0.0897155234842061\n",
      "Epoch 91 : Training loss: 0.08931257650169847 Test loss: 0.08957427520812443\n",
      "Epoch 92 : Training loss: 0.08917240975956083 Test loss: 0.08943669483669181\n",
      "Epoch 93 : Training loss: 0.08903584802913035 Test loss: 0.08930267679608009\n",
      "Epoch 94 : Training loss: 0.08890278812345632 Test loss: 0.08917211863188795\n",
      "Epoch 95 : Training loss: 0.08877312989938634 Test loss: 0.08904492091552775\n",
      "Epoch 96 : Training loss: 0.0886467761660785 Test loss: 0.08892098715348386\n",
      "Epoch 97 : Training loss: 0.0885236325963378 Test loss: 0.0888002236993498\n",
      "Epoch 98 : Training loss: 0.08840360764068357 Test loss: 0.08868253966855572\n",
      "Epoch 99 : Training loss: 0.08828661244405997 Test loss: 0.08856784685570053\n"
     ]
    }
   ],
   "source": [
    "# We run GD step times per epoch, for epochs epochs (same as running GD for epochs*step just lets us print intermediate results)\n",
    "w_GD, epochs, step, gamma = np.zeros(105), 100, 150, 1e-4\n",
    "loss_tr_GD = []\n",
    "loss_te_GD = []\n",
    "for i in range((int)(epochs)):\n",
    "    w_GD, loss_tr = mean_squared_error_gd(y_tr, tx_tr, w_GD, step, gamma)\n",
    "    loss_te = compute_mse(y_te, tx_te, w_GD)\n",
    "    loss_tr_GD.append(loss_tr)\n",
    "    loss_te_GD.append(loss_te)\n",
    "    print(f\"Epoch {i} : Training loss: {loss_tr} Test loss: {loss_te}\")"
   ]
  },
  {
   "cell_type": "markdown",
   "id": "26a94377",
   "metadata": {},
   "source": [
    "#### Plotting the resulting losses"
   ]
  },
  {
   "cell_type": "code",
   "execution_count": 14,
   "id": "10adec5c",
   "metadata": {},
   "outputs": [
    {
     "data": {
      "text/plain": [
       "[<matplotlib.lines.Line2D at 0x1b3805e7f40>]"
      ]
     },
     "execution_count": 14,
     "metadata": {},
     "output_type": "execute_result"
    },
    {
     "data": {
      "image/png": "[encoded data removed]",
      "text/plain": [
       "<Figure size 432x288 with 1 Axes>"
      ]
     },
     "metadata": {
      "needs_background": "light"
     },
     "output_type": "display_data"
    }
   ],
   "source": [
    "plt.plot(range(len(loss_tr_GD)), loss_tr_GD, c='red')\n",
    "plt.plot(range(len(loss_te_GD)), loss_te_GD, c='blue')"
   ]
  },
  {
   "cell_type": "markdown",
   "id": "1549d116",
   "metadata": {},
   "source": [
    "#### Calculating the accuracy on the test set (with predictions = -1 or 1)"
   ]
  },
  {
   "cell_type": "code",
   "execution_count": 24,
   "id": "cd7ed80e",
   "metadata": {},
   "outputs": [
    {
     "name": "stdout",
     "output_type": "stream",
     "text": [
      "Accuracy for these w: 74.588%\n"
     ]
    }
   ],
   "source": [
    "accuracy = compute_accuracy(tx_te, y_te, w_GD, 0.37)\n",
    "print(f\"Accuracy for these w: {accuracy*100}%\")"
   ]
  },
  {
   "cell_type": "code",
   "execution_count": 34,
   "id": "dc226dea-116f-487b-b114-1050791d8f7f",
   "metadata": {},
   "outputs": [
    {
     "name": "stdout",
     "output_type": "stream",
     "text": [
      "best threshold= 0.3718592964824121 \n",
      "best accruacy= 0.74536\n"
     ]
    },
    {
     "data": {
      "image/png": "[encoded data removed]",
      "text/plain": [
       "<Figure size 432x288 with 1 Axes>"
      ]
     },
     "metadata": {
      "needs_background": "light"
     },
     "output_type": "display_data"
    }
   ],
   "source": [
    "best_threshold, best_accruacy = threshold_selection_and_plot(tx_te, y_te, w_GD)\n",
    "print(\"best threshold=\", best_threshold,\"\\nbest accruacy=\",best_accruacy)"
   ]
  },
  {
   "cell_type": "code",
   "execution_count": 53,
   "id": "70bc433e",
   "metadata": {},
   "outputs": [],
   "source": [
    "x_test_GD = replace_min_999_by_col_mean(x_test) # Handle invalid values\n",
    "\n",
    "x_test_GD = build_poly_2(x_test_GD, 2) # Build polynomial expansion\n",
    "\n",
    "x_test_GD, mean_x_test_GD, std_x_test_GD = standardize(x_test_GD) # Standardize x\n",
    "\n",
    "tx_test_GD = add_x_bias(x_test_GD)\n",
    "\n",
    "y_hat = build_prediction(tx_test_GD, w_GD, 0.4) # threshold of 0.4 found experimentally - mention in report\n",
    "write_to_csv(np.column_stack((y_indexes, y_hat)), \"test_output.csv\")"
   ]
  },
  {
   "cell_type": "markdown",
   "id": "b1b9588c",
   "metadata": {},
   "source": [
    "### Linear regression using stochastic gradient descent"
   ]
  },
  {
   "cell_type": "code",
   "execution_count": 35,
   "id": "40630c7f",
   "metadata": {},
   "outputs": [
    {
     "name": "stdout",
     "output_type": "stream",
     "text": [
      "Epoch 0 : Training loss: 0.16876579557824564 Test loss: 0.16776478582371565\n",
      "Epoch 1 : Training loss: 0.1664301099626231 Test loss: 0.1654465564074718\n",
      "Epoch 2 : Training loss: 0.1639051521254742 Test loss: 0.16293967358366115\n",
      "Epoch 3 : Training loss: 0.1608389564148647 Test loss: 0.1598888346150941\n",
      "Epoch 4 : Training loss: 0.15923832879645863 Test loss: 0.15829178971831984\n",
      "Epoch 5 : Training loss: 0.15618143009739904 Test loss: 0.15525117703978544\n",
      "Epoch 6 : Training loss: 0.15506805598853657 Test loss: 0.1541347314270512\n",
      "Epoch 7 : Training loss: 0.15267414494620074 Test loss: 0.15175533660011073\n",
      "Epoch 8 : Training loss: 0.1512065115963263 Test loss: 0.15030009750041332\n",
      "Epoch 9 : Training loss: 0.1495275167101783 Test loss: 0.14861867209063506\n"
     ]
    }
   ],
   "source": [
    "w_SGD, epochs, step, gamma = np.zeros(61), 10, 100, 1e-4\n",
    "for i in range((int)(epochs)):\n",
    "    w_SGD, loss_tr = mean_squared_error_sgd(y_tr, tx_tr, w_SGD, step, gamma)\n",
    "    loss_te = compute_mse(y_te, tx_te, w_SGD)\n",
    "    print(f\"Epoch {i} : Training loss: {loss_tr} Test loss: {loss_te}\")"
   ]
  },
  {
   "cell_type": "markdown",
   "id": "120442c2",
   "metadata": {},
   "source": [
    "#### Calculating the accuracy on the test set (with predictions = 0 or 1)"
   ]
  },
  {
   "cell_type": "code",
   "execution_count": 36,
   "id": "5ac680a8",
   "metadata": {},
   "outputs": [
    {
     "name": "stdout",
     "output_type": "stream",
     "text": [
      "Accuracy for these w: 66.22600000000001%\n"
     ]
    }
   ],
   "source": [
    "y_hat_cont = tx_te@w_SGD\n",
    "y_hat = [1 if yi > 0.40 else 0 for yi in y_hat_cont]\n",
    "accuracy = 1-abs(y_te-y_hat).mean()\n",
    "print(f\"Accuracy for these w: {accuracy*100}%\")"
   ]
  },
  {
   "cell_type": "markdown",
   "id": "0c498d12",
   "metadata": {},
   "source": [
    "### Least squares"
   ]
  },
  {
   "cell_type": "code",
   "execution_count": 25,
   "id": "3729fcfa",
   "metadata": {},
   "outputs": [
    {
     "name": "stdout",
     "output_type": "stream",
     "text": [
      "Training loss: 0.07817462510485772\n",
      "Test loss: 0.08470014748934222\n"
     ]
    }
   ],
   "source": [
    "w_LS, loss_tr = least_squares(y_tr, tx_tr)\n",
    "loss_te = compute_mse(y_te, tx_te, w_LS)\n",
    "print(f\"Training loss: {loss_tr}\\nTest loss: {loss_te}\")"
   ]
  },
  {
   "cell_type": "code",
   "execution_count": 28,
   "id": "d2cde125",
   "metadata": {},
   "outputs": [
    {
     "name": "stdout",
     "output_type": "stream",
     "text": [
      "Accuracy for these w: 77.21000000000001%\n"
     ]
    }
   ],
   "source": [
    "y_hat_cont = tx_te@w_LS\n",
    "y_hat = [1 if yi > 0.47 else 0 for yi in y_hat_cont]\n",
    "accuracy = 1-abs(y_te-y_hat).mean()\n",
    "print(f\"Accuracy for these w: {accuracy*100}%\")"
   ]
  },
  {
   "cell_type": "code",
   "execution_count": 27,
   "id": "e8d06b40-a347-4c8b-b4d0-e6bda402883e",
   "metadata": {},
   "outputs": [
    {
     "name": "stdout",
     "output_type": "stream",
     "text": [
      "best threshold= 0.4723618090452262 \n",
      "best accruacy= 0.77216\n"
     ]
    },
    {
     "data": {
      "image/png": "[encoded data removed]",
      "text/plain": [
       "<Figure size 432x288 with 1 Axes>"
      ]
     },
     "metadata": {
      "needs_background": "light"
     },
     "output_type": "display_data"
    }
   ],
   "source": [
    "best_threshold, best_accruacy = threshold_selection_and_plot(tx_te, y_te, w_LS)\n",
    "print(\"best threshold=\", best_threshold,\"\\nbest accruacy=\",best_accruacy)"
   ]
  },
  {
   "cell_type": "markdown",
   "id": "9557525a",
   "metadata": {},
   "source": [
    "### Ridge regression"
   ]
  },
  {
   "cell_type": "code",
   "execution_count": 32,
   "id": "741e5c42",
   "metadata": {},
   "outputs": [
    {
     "name": "stdout",
     "output_type": "stream",
     "text": [
      "Training loss: 0.07830099276521373\n",
      "\n"
     ]
    }
   ],
   "source": [
    "lambda_ = 0.00117\n",
    "w_REG, loss_tr = ridge_regression(y_tr, tx_tr, lambda_)\n",
    "print(f\"Training loss: {loss_tr}\\n\")"
   ]
  },
  {
   "cell_type": "code",
   "execution_count": 33,
   "id": "c137ae3d",
   "metadata": {},
   "outputs": [
    {
     "name": "stdout",
     "output_type": "stream",
     "text": [
      "Accuracy for these w: 77.086%\n"
     ]
    }
   ],
   "source": [
    "y_hat_cont = tx_te@w_REG\n",
    "y_hat = [1 if yi > 0.44 else 0 for yi in y_hat_cont]\n",
    "accuracy = 1-abs(y_te-y_hat).mean()\n",
    "print(f\"Accuracy for these w: {accuracy*100}%\")"
   ]
  },
  {
   "cell_type": "code",
   "execution_count": 31,
   "id": "8c54c606-5809-41f9-9e70-a2134e9c0632",
   "metadata": {},
   "outputs": [
    {
     "name": "stdout",
     "output_type": "stream",
     "text": [
      "lambda= 1e-05 best threshold= 0.4723618090452262 accruacy= 0.77202\n",
      "lambda= 1.4873521072935119e-05 best threshold= 0.4723618090452262 accruacy= 0.7721\n",
      "lambda= 2.21221629107045e-05 best threshold= 0.4723618090452262 accruacy= 0.77214\n",
      "lambda= 3.290344562312671e-05 best threshold= 0.4723618090452262 accruacy= 0.77234\n",
      "lambda= 4.893900918477499e-05 best threshold= 0.4723618090452262 accruacy= 0.77252\n",
      "lambda= 7.278953843983146e-05 best threshold= 0.4723618090452262 accruacy= 0.77264\n",
      "lambda= 0.00010826367338740541 best threshold= 0.4723618090452262 accruacy= 0.77316\n",
      "lambda= 0.0001610262027560939 best threshold= 0.4723618090452262 accruacy= 0.77386\n",
      "lambda= 0.0002395026619987486 best threshold= 0.4723618090452262 accruacy= 0.77426\n",
      "lambda= 0.0003562247890262444 best threshold= 0.4723618090452262 accruacy= 0.7749\n",
      "lambda= 0.0005298316906283713 best threshold= 0.4723618090452262 accruacy= 0.77496\n",
      "lambda= 0.0007880462815669912 best threshold= 0.4723618090452262 accruacy= 0.77552\n",
      "lambda= 0.0011721022975334804 best threshold= 0.4723618090452262 accruacy= 0.7759\n",
      "lambda= 0.001743328822199989 best threshold= 0.4723618090452262 accruacy= 0.77584\n",
      "lambda= 0.002592943797404667 best threshold= 0.4723618090452262 accruacy= 0.77508\n",
      "lambda= 0.0038566204211634724 best threshold= 0.4723618090452262 accruacy= 0.77384\n",
      "lambda= 0.005736152510448681 best threshold= 0.4924623115577891 accruacy= 0.77254\n",
      "lambda= 0.008531678524172814 best threshold= 0.4723618090452262 accruacy= 0.77124\n",
      "lambda= 0.012689610031679234 best threshold= 0.4723618090452262 accruacy= 0.7695\n",
      "lambda= 0.018873918221350976 best threshold= 0.4522613065326633 accruacy= 0.76774\n",
      "lambda= 0.028072162039411784 best threshold= 0.4522613065326633 accruacy= 0.76604\n",
      "lambda= 0.04175318936560404 best threshold= 0.4522613065326633 accruacy= 0.76294\n",
      "lambda= 0.06210169418915616 best threshold= 0.4321608040201004 accruacy= 0.75972\n",
      "lambda= 0.09236708571873865 best threshold= 0.4120603015075379 accruacy= 0.75572\n",
      "lambda= 0.1373823795883264 best threshold= 0.3718592964824121 accruacy= 0.75176\n",
      "lambda= 0.20433597178569438 best threshold= 0.3316582914572863 accruacy= 0.7470399999999999\n",
      "lambda= 0.3039195382313201 best threshold= 0.29145728643216096 accruacy= 0.7428\n",
      "lambda= 0.452035365636025 best threshold= 0.25125628140703515 accruacy= 0.7369399999999999\n",
      "lambda= 0.6723357536499335 best threshold= 0.2110552763819098 accruacy= 0.73104\n",
      "lambda= 1.0 best threshold= 0.25125628140703515 accruacy= 0.72662\n"
     ]
    }
   ],
   "source": [
    "ridge_lambdas_and_threshold (y_tr, tx_tr, y_te, tx_te)"
   ]
  },
  {
   "cell_type": "markdown",
   "id": "d51d88db",
   "metadata": {},
   "source": [
    "### Logistic regression using gradient descent or SGD (y ∈ {0, 1})"
   ]
  },
  {
   "cell_type": "code",
   "execution_count": 82,
   "id": "77ab45cd",
   "metadata": {},
   "outputs": [
    {
     "name": "stdout",
     "output_type": "stream",
     "text": [
      "Epoch 0 : Training loss: 0.5047149171786687 Test loss: 0.5026337588755009\n",
      "Epoch 1 : Training loss: 0.4910090191880656 Test loss: 0.4895891625108363\n",
      "Epoch 2 : Training loss: 0.4835449901981204 Test loss: 0.4827631987529457\n",
      "Epoch 3 : Training loss: 0.4783172072757554 Test loss: 0.47791065359082097\n",
      "Epoch 4 : Training loss: 0.47431805479914363 Test loss: 0.4741455247042955\n",
      "Epoch 5 : Training loss: 0.4711077765146115 Test loss: 0.47110088127793937\n",
      "Epoch 6 : Training loss: 0.4684447257510413 Test loss: 0.4685667600290032\n",
      "Epoch 7 : Training loss: 0.46618444123303104 Test loss: 0.466408730108515\n",
      "Epoch 8 : Training loss: 0.46423133242192316 Test loss: 0.46453628343765613\n",
      "Epoch 9 : Training loss: 0.46251828823386 Test loss: 0.46288707614078617\n",
      "Epoch 10 : Training loss: 0.4609968861351362 Test loss: 0.4614169125377075\n",
      "Epoch 11 : Training loss: 0.4596315264389842 Test loss: 0.46009346078246327\n",
      "Epoch 12 : Training loss: 0.45839552714943016 Test loss: 0.4588923380544545\n",
      "Epoch 13 : Training loss: 0.4572684870550968 Test loss: 0.45779467121896694\n",
      "Epoch 14 : Training loss: 0.4562345012609083 Test loss: 0.456785571601333\n",
      "Epoch 15 : Training loss: 0.4552809416789989 Test loss: 0.4558531310037034\n",
      "Epoch 16 : Training loss: 0.4543976111756799 Test loss: 0.4549877039783991\n",
      "Epoch 17 : Training loss: 0.45357614785439143 Test loss: 0.4541813731998734\n",
      "Epoch 18 : Training loss: 0.4528095997510455 Test loss: 0.4534275543851769\n",
      "Epoch 19 : Training loss: 0.4520921172418037 Test loss: 0.452720709262641\n",
      "Epoch 20 : Training loss: 0.4514187271954793 Test loss: 0.4520561363816755\n",
      "Epoch 21 : Training loss: 0.45078516392225576 Test loss: 0.45142981426387285\n",
      "Epoch 22 : Training loss: 0.45018773982217286 Test loss: 0.45083827918582214\n",
      "Epoch 23 : Training loss: 0.44962324436385726 Test loss: 0.45027852719204503\n",
      "Epoch 24 : Training loss: 0.44908886399274267 Test loss: 0.44974793471310903\n",
      "Epoch 25 : Training loss: 0.44858211807002907 Test loss: 0.4492441944251149\n",
      "Epoch 26 : Training loss: 0.4481008073811318 Test loss: 0.4487652637421946\n",
      "Epoch 27 : Training loss: 0.44764297255988345 Test loss: 0.4483093235583021\n",
      "Epoch 28 : Training loss: 0.44720686029195467 Test loss: 0.4478747450730689\n",
      "Epoch 29 : Training loss: 0.44679089557536905 Test loss: 0.4474600628746876\n",
      "Epoch 30 : Training loss: 0.44639365868817565 Test loss: 0.44706395284656825\n",
      "Epoch 31 : Training loss: 0.4460138658396357 Test loss: 0.44668521382597776\n",
      "Epoch 32 : Training loss: 0.4456503527461053 Test loss: 0.44632275222789064\n",
      "Epoch 33 : Training loss: 0.4453020605721573 Test loss: 0.44597556905409347\n",
      "Epoch 34 : Training loss: 0.44496802381974054 Test loss: 0.4456427488531826\n",
      "Epoch 35 : Training loss: 0.44464735984717635 Test loss: 0.44532345029947207\n",
      "Epoch 36 : Training loss: 0.44433925976864824 Test loss: 0.44501689813075146\n",
      "Epoch 37 : Training loss: 0.4440429805334759 Test loss: 0.44472237623469163\n",
      "Epoch 38 : Training loss: 0.44375783801963864 Test loss: 0.4444392217078212\n",
      "Epoch 39 : Training loss: 0.4434832010021268 Test loss: 0.4441668197350319\n",
      "Epoch 40 : Training loss: 0.4432184858767671 Test loss: 0.44390459915634956\n",
      "Epoch 41 : Training loss: 0.44296315203625297 Test loss: 0.4436520286046506\n",
      "Epoch 42 : Training loss: 0.4427166978086184 Test loss: 0.44340861311477986\n",
      "Epoch 43 : Training loss: 0.44247865688017946 Test loss: 0.4431738911212439\n",
      "Epoch 44 : Training loss: 0.4422485951355005 Test loss: 0.442947431777582\n",
      "Epoch 45 : Training loss: 0.44202610785637986 Test loss: 0.4427288325447192\n",
      "Epoch 46 : Training loss: 0.44181081723026566 Test loss: 0.4425177170074693\n",
      "Epoch 47 : Training loss: 0.441602370125912 Test loss: 0.4423137328876917\n",
      "Epoch 48 : Training loss: 0.44140043610048163 Test loss: 0.4421165502296168\n",
      "Epoch 49 : Training loss: 0.44120470560778324 Test loss: 0.4419258597379403\n",
      "Epoch 50 : Training loss: 0.4410148883819649 Test loss: 0.44174137125290497\n",
      "Epoch 51 : Training loss: 0.4408307119748771 Test loss: 0.4415628123491652\n",
      "Epoch 52 : Training loss: 0.44065192042858453 Test loss: 0.44138992704709434\n",
      "Epoch 53 : Training loss: 0.44047827306723286 Test loss: 0.4412224746265941\n",
      "Epoch 54 : Training loss: 0.44030954339475165 Test loss: 0.44106022853455457\n",
      "Epoch 55 : Training loss: 0.4401455180867862 Test loss: 0.4409029753780172\n",
      "Epoch 56 : Training loss: 0.43998599606685007 Test loss: 0.44075051399585613\n",
      "Epoch 57 : Training loss: 0.43983078765803113 Test loss: 0.4406026546024639\n",
      "Epoch 58 : Training loss: 0.43967971380272336 Test loss: 0.4404592179975317\n",
      "Epoch 59 : Training loss: 0.43953260534380917 Test loss: 0.4403200348365493\n",
      "Epoch 60 : Training loss: 0.43938930236153684 Test loss: 0.44018494495713345\n",
      "Epoch 61 : Training loss: 0.43924965356102064 Test loss: 0.4400537967567325\n",
      "Epoch 62 : Training loss: 0.4391135157058897 Test loss: 0.4399264466176359\n",
      "Epoch 63 : Training loss: 0.4389807530941089 Test loss: 0.43980275837556654\n",
      "Epoch 64 : Training loss: 0.4388512370724329 Test loss: 0.4396826028284382\n",
      "Epoch 65 : Training loss: 0.43872484558631886 Test loss: 0.4395658572821335\n",
      "Epoch 66 : Training loss: 0.4386014627624524 Test loss: 0.4394524051304018\n",
      "Epoch 67 : Training loss: 0.4384809785213089 Test loss: 0.43934213546619577\n",
      "Epoch 68 : Training loss: 0.43836328821741893 Test loss: 0.4392349427219645\n",
      "Epoch 69 : Training loss: 0.438248292305211 Test loss: 0.4391307263366038\n",
      "Epoch 70 : Training loss: 0.43813589602849334 Test loss: 0.439029390446937\n",
      "Epoch 71 : Training loss: 0.4380260091317904 Test loss: 0.43893084360175266\n",
      "Epoch 72 : Training loss: 0.43791854559190335 Test loss: 0.4388349984965821\n",
      "Epoch 73 : Training loss: 0.43781342336818035 Test loss: 0.4387417717275325\n",
      "Epoch 74 : Training loss: 0.4377105641701078 Test loss: 0.43865108356263155\n",
      "Epoch 75 : Training loss: 0.43760989324093286 Test loss: 0.43856285772926024\n",
      "Epoch 76 : Training loss: 0.4375113391561222 Test loss: 0.43847702121636933\n",
      "Epoch 77 : Training loss: 0.43741483363555633 Test loss: 0.43839350409028865\n",
      "Epoch 78 : Training loss: 0.4373203113684299 Test loss: 0.4383122393230356\n",
      "Epoch 79 : Training loss: 0.4372277098499137 Test loss: 0.4382331626321301\n",
      "Epoch 80 : Training loss: 0.4371369692286937 Test loss: 0.4381562123310095\n",
      "Epoch 81 : Training loss: 0.4370480321645794 Test loss: 0.43808132918921555\n",
      "Epoch 82 : Training loss: 0.4369608436954215 Test loss: 0.4380084563016044\n",
      "Epoch 83 : Training loss: 0.43687535111264636 Test loss: 0.43793753896589244\n",
      "Epoch 84 : Training loss: 0.4367915038447642 Test loss: 0.437868524567915\n",
      "Epoch 85 : Training loss: 0.4367092533482532 Test loss: 0.4378013624740318\n",
      "Epoch 86 : Training loss: 0.43662855300527686 Test loss: 0.43773600393015705\n",
      "Epoch 87 : Training loss: 0.43654935802772526 Test loss: 0.4376724019669443\n",
      "Epoch 88 : Training loss: 0.43647162536711925 Test loss: 0.4376105113106909\n",
      "Epoch 89 : Training loss: 0.43639531362994805 Test loss: 0.43755028829956866\n",
      "Epoch 90 : Training loss: 0.4363203829980473 Test loss: 0.43749169080481587\n",
      "Epoch 91 : Training loss: 0.4362467951536557 Test loss: 0.4374346781565598\n",
      "Epoch 92 : Training loss: 0.43617451320881945 Test loss: 0.43737921107396394\n",
      "Epoch 93 : Training loss: 0.4361035016388372 Test loss: 0.4373252515994188\n",
      "Epoch 94 : Training loss: 0.4360337262194675 Test loss: 0.4372727630365191\n",
      "Epoch 95 : Training loss: 0.4359651539676362 Test loss: 0.43722170989158754\n",
      "Epoch 96 : Training loss: 0.4358977530854128 Test loss: 0.43717205781852714\n",
      "Epoch 97 : Training loss: 0.43583149290703316 Test loss: 0.43712377356679916\n",
      "Epoch 98 : Training loss: 0.4357663438487691 Test loss: 0.43707682493233513\n",
      "Epoch 99 : Training loss: 0.43570227736146155 Test loss: 0.4370311807112147\n"
     ]
    }
   ],
   "source": [
    "# We run GD step times per epoch, for epochs epochs (same as running GD for epochs*step just lets us print intermediate results)\n",
    "w_GD_log, epochs, step, gamma = np.zeros(105), 100, 100, 1e-1\n",
    "loss_tr_GD_log = []\n",
    "loss_te_GD_log = []\n",
    "for i in range((int)(epochs)):\n",
    "    w_GD_log, loss_tr = logistic_regression(y_tr, tx_tr, w_GD_log, step, gamma)\n",
    "    loss_te = compute_log_loss(y_te, tx_te, w_GD_log)\n",
    "    loss_tr_GD_log.append(loss_tr)\n",
    "    loss_te_GD_log.append(loss_te)\n",
    "    print(f\"Epoch {i} : Training loss: {loss_tr} Test loss: {loss_te}\")"
   ]
  },
  {
   "cell_type": "markdown",
   "id": "261c9446",
   "metadata": {},
   "source": [
    "#### Plotting the resulting losses"
   ]
  },
  {
   "cell_type": "code",
   "execution_count": 83,
   "id": "4c5adc13",
   "metadata": {},
   "outputs": [
    {
     "data": {
      "text/plain": [
       "[<matplotlib.lines.Line2D at 0x21a80434310>]"
      ]
     },
     "execution_count": 83,
     "metadata": {},
     "output_type": "execute_result"
    },
    {
     "data": {
      "image/png": "[encoded data removed]",
      "text/plain": [
       "<Figure size 640x480 with 1 Axes>"
      ]
     },
     "metadata": {},
     "output_type": "display_data"
    }
   ],
   "source": [
    "plt.plot(range(len(loss_tr_GD_log)), loss_tr_GD_log, c='red')\n",
    "plt.plot(range(len(loss_te_GD_log)), loss_te_GD_log, c='blue')"
   ]
  },
  {
   "cell_type": "markdown",
   "id": "035f5f37",
   "metadata": {},
   "source": [
    "#### Calculating the accuracy on the test set (with predictions = -1 or 1)"
   ]
  },
  {
   "cell_type": "code",
   "execution_count": 84,
   "id": "7efad889",
   "metadata": {},
   "outputs": [
    {
     "name": "stdout",
     "output_type": "stream",
     "text": [
      "Accuracy for these w: 80.43%\n"
     ]
    }
   ],
   "source": [
    "accuracy = compute_accuracy_log(tx_te, y_te, w_GD_log, threshold=0.5)\n",
    "print(f\"Accuracy for these w: {accuracy*100}%\")"
   ]
  },
  {
   "cell_type": "code",
   "execution_count": 85,
   "id": "2e22dd16",
   "metadata": {},
   "outputs": [],
   "source": [
    "x_test_log = replace_min_999_by_col_mean(x_test) # Handle invalid values\n",
    "\n",
    "x_test_log = build_poly_2(x_test_log)\n",
    "\n",
    "x_test_log, mean_x_test_log, std_x_test_log = standardize(x_test_log) # Standardize x\n",
    "\n",
    "tx_test_log = add_x_bias(x_test_log)\n",
    "\n",
    "y_hat = build_prediction_log(tx_test_log, w_GD_log, threshold=0.5, minus_one = True)\n",
    "write_to_csv(np.column_stack((y_indexes, y_hat)), \"test_output.csv\")"
   ]
  },
  {
   "cell_type": "markdown",
   "id": "038db552",
   "metadata": {},
   "source": [
    "### Regularized logistic regression using gradient descent or SGD (y ∈ {0, 1}, with regularization term λ∥w∥**2)"
   ]
  },
  {
   "cell_type": "code",
   "execution_count": null,
   "id": "b77d3e58",
   "metadata": {},
   "outputs": [],
   "source": []
  }
 ],
 "metadata": {
  "kernelspec": {
   "display_name": "Python 3 (ipykernel)",
   "language": "python",
   "name": "python3"
  },
  "language_info": {
   "codemirror_mode": {
    "name": "ipython",
    "version": 3
   },
   "file_extension": ".py",
   "mimetype": "text/x-python",
   "name": "python",
   "nbconvert_exporter": "python",
   "pygments_lexer": "ipython3",
   "version": "3.8.3"
  }
 },
 "nbformat": 4,
 "nbformat_minor": 5
}
