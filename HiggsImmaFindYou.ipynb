{
 "cells": [
  {
   "cell_type": "markdown",
   "id": "0ce48c91",
   "metadata": {},
   "source": [
    "## Imports"
   ]
  },
  {
   "cell_type": "code",
   "execution_count": 12,
   "id": "e36b7a6e",
   "metadata": {},
   "outputs": [
    {
     "name": "stdout",
     "output_type": "stream",
     "text": [
      "The autoreload extension is already loaded. To reload it, use:\n",
      "  %reload_ext autoreload\n"
     ]
    }
   ],
   "source": [
    "%matplotlib inline\n",
    "import numpy as np\n",
    "import matplotlib.pyplot as plt\n",
    "from implementations import *\n",
    "%load_ext autoreload\n",
    "%autoreload 2"
   ]
  },
  {
   "cell_type": "markdown",
   "id": "fbd8eeb2",
   "metadata": {},
   "source": [
    "## Assignment"
   ]
  },
  {
   "cell_type": "markdown",
   "id": "58af40ee",
   "metadata": {},
   "source": [
    "### Pre-processing"
   ]
  },
  {
   "cell_type": "code",
   "execution_count": 51,
   "id": "37127a98",
   "metadata": {},
   "outputs": [],
   "source": [
    "# In a single cell because it takes a long time and doesn't need to be ran everytime\n",
    "y, x = load_data(train=True) # Load data\n",
    "y_indexes, x_test = load_data(train=False)"
   ]
  },
  {
   "cell_type": "code",
   "execution_count": 22,
   "id": "b9e2f596",
   "metadata": {},
   "outputs": [],
   "source": [
    "x_tr, x_te, y_tr, y_te = split_data(x, y, 0.8, np.random.seed())\n",
    "x_tr = replace_min_999_by_col_mean(x_tr) # Handle invalid values\n",
    "x_te = replace_min_999_by_col_mean(x_te)\n",
    "\n",
    "x_tr = build_poly(x_tr, 2) # Poly exp deg=2\n",
    "x_te = build_poly(x_te, 2)\n",
    "\n",
    "x_tr, mean_x_tr, std_x_tr = standardize(x_tr) # Standardize x\n",
    "x_te, mean_x_te, std_x_te = standardize(x_te)\n",
    "\n",
    "tx_tr = add_x_bias(x_tr) # Add bias after normalisation to avoid NaNs\n",
    "tx_te = add_x_bias(x_te)"
   ]
  },
  {
   "cell_type": "markdown",
   "id": "fd04e81f",
   "metadata": {},
   "source": [
    "### Linear regression using gradient descent"
   ]
  },
  {
   "cell_type": "code",
   "execution_count": 26,
   "id": "f3baccc1",
   "metadata": {},
   "outputs": [
    {
     "name": "stdout",
     "output_type": "stream",
     "text": [
      "Epoch 0 : Training loss: 0.16689938037489174 Test loss: 0.16591489409642565\n",
      "Epoch 1 : Training loss: 0.16281040748432146 Test loss: 0.1618482002087165\n",
      "Epoch 2 : Training loss: 0.15915838758495704 Test loss: 0.15821872131324466\n",
      "Epoch 3 : Training loss: 0.1558605556761018 Test loss: 0.15494282487812447\n",
      "Epoch 4 : Training loss: 0.15285387256211264 Test loss: 0.15195701177239254\n",
      "Epoch 5 : Training loss: 0.15008983679697252 Test loss: 0.14921257622772435\n",
      "Epoch 6 : Training loss: 0.1475307337687426 Test loss: 0.146671754658872\n",
      "Epoch 7 : Training loss: 0.14514691212096378 Test loss: 0.14430493675181524\n",
      "Epoch 8 : Training loss: 0.1429147964637335 Test loss: 0.14208863628351315\n",
      "Epoch 9 : Training loss: 0.140815429362198 Test loss: 0.14000400682859163\n",
      "Epoch 10 : Training loss: 0.13883339510517137 Test loss: 0.13803574953993375\n",
      "Epoch 11 : Training loss: 0.13695601994737053 Test loss: 0.13617130410814512\n",
      "Epoch 12 : Training loss: 0.1351727734628147 Test loss: 0.134400245130436\n",
      "Epoch 13 : Training loss: 0.13347481692804974 Test loss: 0.13271382820567884\n",
      "Epoch 14 : Training loss: 0.13185465980241562 Test loss: 0.1311046457670866\n",
      "Epoch 15 : Training loss: 0.13030589617596047 Test loss: 0.12956636383580578\n",
      "Epoch 16 : Training loss: 0.12882300077697584 Test loss: 0.12809351884708248\n",
      "Epoch 17 : Training loss: 0.1274011696637157 Test loss: 0.12668135939751268\n",
      "Epoch 18 : Training loss: 0.1260361947007318 Test loss: 0.12532572184593296\n",
      "Epoch 19 : Training loss: 0.12472436378704507 Test loss: 0.12402293163766101\n",
      "Epoch 20 : Training loss: 0.12346238087841056 Test loss: 0.12276972434186645\n",
      "Epoch 21 : Training loss: 0.12224730135442727 Test loss: 0.12156318192855001\n",
      "Epoch 22 : Training loss: 0.12107647938325743 Test loss: 0.12040068093075304\n",
      "Epoch 23 : Training loss: 0.11994752474616838 Test loss: 0.11927984995700251\n",
      "Epoch 24 : Training loss: 0.11885826718224533 Test loss: 0.1181985346224687\n",
      "Epoch 25 : Training loss: 0.11780672675850162 Test loss: 0.11715476841465267\n",
      "Epoch 26 : Training loss: 0.11679108910383516 Test loss: 0.11614674834336042\n",
      "Epoch 27 : Training loss: 0.1158096845967352 Test loss: 0.11517281447588652\n",
      "Epoch 28 : Training loss: 0.11486097078788211 Test loss: 0.11423143264873833\n",
      "Epoch 29 : Training loss: 0.11394351748539483 Test loss: 0.11332117979276773\n",
      "Epoch 30 : Training loss: 0.1130559940438016 Test loss: 0.11244073142075398\n",
      "Epoch 31 : Training loss: 0.11219715848611941 Test loss: 0.11158885091367175\n",
      "Epoch 32 : Training loss: 0.11136584815778998 Test loss: 0.11076438031021871\n",
      "Epoch 33 : Training loss: 0.11056097166614168 Test loss: 0.10996623235817594\n",
      "Epoch 34 : Training loss: 0.10978150190284598 Test loss: 0.10919338362917501\n",
      "Epoch 35 : Training loss: 0.1090264699820188 Test loss: 0.10844486853294048\n",
      "Epoch 36 : Training loss: 0.10829495995506591 Test loss: 0.10771977409494105\n",
      "Epoch 37 : Training loss: 0.10758610418650658 Test loss: 0.1070172353840296\n",
      "Epoch 38 : Training loss: 0.10689907929394102 Test loss: 0.1063364314951727\n",
      "Epoch 39 : Training loss: 0.10623310257088431 Test loss: 0.10567658200758874\n",
      "Epoch 40 : Training loss: 0.10558742882404103 Test loss: 0.10503694385118346\n",
      "Epoch 41 : Training loss: 0.10496134756725184 Test loss: 0.10441680852459659\n",
      "Epoch 42 : Training loss: 0.10435418052321196 Test loss: 0.1038154996168501\n",
      "Epoch 43 : Training loss: 0.1037652793914692 Test loss: 0.10323237059183966\n",
      "Epoch 44 : Training loss: 0.10319402384741176 Test loss: 0.10266680280098307\n",
      "Epoch 45 : Training loss: 0.10263981974216815 Test loss: 0.1021182036944454\n",
      "Epoch 46 : Training loss: 0.10210209747772599 Test loss: 0.10158600520565723\n",
      "Epoch 47 : Training loss: 0.1015803105352794 Test loss: 0.10106966228747416\n",
      "Epoch 48 : Training loss: 0.10107393413794266 Test loss: 0.10056865158139329\n",
      "Epoch 49 : Training loss: 0.10058246403162134 Test loss: 0.1000824702038471\n",
      "Epoch 50 : Training loss: 0.10010541537007998 Test loss: 0.09961063463580497\n",
      "Epoch 51 : Training loss: 0.09964232169216099 Test loss: 0.09915267970379181\n",
      "Epoch 52 : Training loss: 0.09919273398073693 Test loss: 0.09870815764203629\n",
      "Epoch 53 : Training loss: 0.09875621979437003 Test loss: 0.09827663722682867\n",
      "Epoch 54 : Training loss: 0.09833236246384054 Test loss: 0.09785770297533715\n",
      "Epoch 55 : Training loss: 0.09792076034671968 Test loss: 0.09745095440213296\n",
      "Epoch 56 : Training loss: 0.09752102613403925 Test loss: 0.09705600532753322\n",
      "Epoch 57 : Training loss: 0.09713278620385225 Test loss: 0.09667248323260848\n",
      "Epoch 58 : Training loss: 0.09675568001712848 Test loss: 0.09630002865633626\n",
      "Epoch 59 : Training loss: 0.09638935955197873 Test loss: 0.09593829463093022\n",
      "Epoch 60 : Training loss: 0.09603348877268265 Test loss: 0.09558694615184585\n",
      "Epoch 61 : Training loss: 0.0956877431304085 Test loss: 0.09524565967937354\n",
      "Epoch 62 : Training loss: 0.09535180909286987 Test loss: 0.0949141226690836\n",
      "Epoch 63 : Training loss: 0.09502538370047858 Test loss: 0.09459203312869574\n",
      "Epoch 64 : Training loss: 0.09470817414681919 Test loss: 0.09427909919921232\n",
      "Epoch 65 : Training loss: 0.09439989738150992 Test loss: 0.09397503875838888\n",
      "Epoch 66 : Training loss: 0.09410027973371758 Test loss: 0.09367957904481858\n",
      "Epoch 67 : Training loss: 0.09380905655477549 Test loss: 0.09339245630108546\n",
      "Epoch 68 : Training loss: 0.09352597187850994 Test loss: 0.0931134154345974\n",
      "Epoch 69 : Training loss: 0.0932507780980192 Test loss: 0.09284220969484741\n",
      "Epoch 70 : Training loss: 0.09298323565777149 Test loss: 0.0925786003659727\n",
      "Epoch 71 : Training loss: 0.09272311275999524 Test loss: 0.09232235647358752\n",
      "Epoch 72 : Training loss: 0.09247018508442931 Test loss: 0.09207325450495979\n",
      "Epoch 73 : Training loss: 0.09222423552058598 Test loss: 0.09183107814168624\n",
      "Epoch 74 : Training loss: 0.09198505391175378 Test loss: 0.09159561800409356\n",
      "Epoch 75 : Training loss: 0.09175243681003274 Test loss: 0.09136667140666045\n",
      "Epoch 76 : Training loss: 0.09152618724175562 Test loss: 0.09114404212381397\n",
      "Epoch 77 : Training loss: 0.09130611448269994 Test loss: 0.0909275401655061\n",
      "Epoch 78 : Training loss: 0.0910920338425438 Test loss: 0.09071698156202393\n",
      "Epoch 79 : Training loss: 0.09088376645806141 Test loss: 0.09051218815752977\n",
      "Epoch 80 : Training loss: 0.09068113909459136 Test loss: 0.09031298741186466\n",
      "Epoch 81 : Training loss: 0.0904839839553466 Test loss: 0.09011921221018411\n",
      "Epoch 82 : Training loss: 0.09029213849816516 Test loss: 0.08993070068002595\n",
      "Epoch 83 : Training loss: 0.09010544525932938 Test loss: 0.08974729601543761\n",
      "Epoch 84 : Training loss: 0.0899237516841069 Test loss: 0.08956884630781686\n",
      "Epoch 85 : Training loss: 0.08974690996369052 Test loss: 0.08939520438314254\n",
      "Epoch 86 : Training loss: 0.0895747768782341 Test loss: 0.08922622764529321\n",
      "Epoch 87 : Training loss: 0.08940721364570206 Test loss: 0.08906177792517127\n",
      "Epoch 88 : Training loss: 0.08924408577626755 Test loss: 0.08890172133536751\n",
      "Epoch 89 : Training loss: 0.08908526293201038 Test loss: 0.08874592813011764\n",
      "Epoch 90 : Training loss: 0.08893061879168061 Test loss: 0.08859427257031646\n",
      "Epoch 91 : Training loss: 0.08878003092030795 Test loss: 0.08844663279337067\n",
      "Epoch 92 : Training loss: 0.08863338064344939 Test loss: 0.08830289068768185\n",
      "Epoch 93 : Training loss: 0.08849055292587907 Test loss: 0.08816293177156491\n",
      "Epoch 94 : Training loss: 0.08835143625453555 Test loss: 0.08802664507641637\n",
      "Epoch 95 : Training loss: 0.08821592252555106 Test loss: 0.08789392303395788\n",
      "Epoch 96 : Training loss: 0.08808390693519738 Test loss: 0.0877646613673895\n",
      "Epoch 97 : Training loss: 0.08795528787459084 Test loss: 0.08763875898629542\n",
      "Epoch 98 : Training loss: 0.08782996682800741 Test loss: 0.08751611788515357\n",
      "Epoch 99 : Training loss: 0.08770784827466642 Test loss: 0.08739664304530696\n"
     ]
    }
   ],
   "source": [
    "# We run GD step times per epoch, for epochs epochs (same as running GD for epochs*step just lets us print intermediate results)\n",
    "w_GD, epochs, step, gamma = np.zeros(61), 100, 150, 1e-4\n",
    "loss_tr_GD = []\n",
    "loss_te_GD = []\n",
    "for i in range((int)(epochs)):\n",
    "    w_GD, loss_tr = mean_squared_error_gd(y_tr, tx_tr, w_GD, step, gamma)\n",
    "    loss_te = compute_mse(y_te, tx_te, w_GD)\n",
    "    loss_tr_GD.append(loss_tr)\n",
    "    loss_te_GD.append(loss_te)\n",
    "    print(f\"Epoch {i} : Training loss: {loss_tr} Test loss: {loss_te}\")"
   ]
  },
  {
   "cell_type": "markdown",
   "id": "26a94377",
   "metadata": {},
   "source": [
    "#### Plotting the resulting losses"
   ]
  },
  {
   "cell_type": "code",
   "execution_count": 29,
   "id": "10adec5c",
   "metadata": {},
   "outputs": [
    {
     "data": {
      "text/plain": [
       "[<matplotlib.lines.Line2D at 0x2ca922df7f0>]"
      ]
     },
     "execution_count": 29,
     "metadata": {},
     "output_type": "execute_result"
    },
    {
     "data": {
      "image/png": "[encoded data removed]",
      "text/plain": [
       "<Figure size 640x480 with 1 Axes>"
      ]
     },
     "metadata": {},
     "output_type": "display_data"
    }
   ],
   "source": [
    "plt.plot(range(len(loss_tr_GD)), loss_tr_GD, c='red')\n",
    "plt.plot(range(len(loss_te_GD)), loss_te_GD, c='blue')"
   ]
  },
  {
   "cell_type": "markdown",
   "id": "1549d116",
   "metadata": {},
   "source": [
    "#### Calculating the accuracy on the test set (with predictions = -1 or 1)"
   ]
  },
  {
   "cell_type": "code",
   "execution_count": 52,
   "id": "cd7ed80e",
   "metadata": {},
   "outputs": [
    {
     "name": "stdout",
     "output_type": "stream",
     "text": [
      "Accuracy for these w: 41.306%\n"
     ]
    }
   ],
   "source": [
    "accuracy = compute_accuracy(tx_te, y_te, w_GD, 0)\n",
    "print(f\"Accuracy for these w: {accuracy*100}%\")"
   ]
  },
  {
   "cell_type": "code",
   "execution_count": 53,
   "id": "70bc433e",
   "metadata": {},
   "outputs": [],
   "source": [
    "x_test_GD = replace_min_999_by_col_mean(x_test) # Handle invalid values\n",
    "\n",
    "x_test_GD = build_poly(x_test_GD, 2) # Build polynomial expansion\n",
    "\n",
    "x_test_GD, mean_x_test_GD, std_x_test_GD = standardize(x_test_GD) # Standardize x\n",
    "\n",
    "tx_test_GD = add_x_bias(x_test_GD)\n",
    "\n",
    "y_hat = build_prediction(tx_test_GD, w_GD, 0.4) # threshold of 0.4 found experimentally - mention in report\n",
    "write_to_csv(np.column_stack((y_indexes, y_hat)), \"test_output.csv\")"
   ]
  },
  {
   "cell_type": "markdown",
   "id": "b1b9588c",
   "metadata": {},
   "source": [
    "### Linear regression using stochastic gradient descent"
   ]
  },
  {
   "cell_type": "code",
   "execution_count": 35,
   "id": "40630c7f",
   "metadata": {},
   "outputs": [
    {
     "name": "stdout",
     "output_type": "stream",
     "text": [
      "Epoch 0 : Training loss: 0.16876579557824564 Test loss: 0.16776478582371565\n",
      "Epoch 1 : Training loss: 0.1664301099626231 Test loss: 0.1654465564074718\n",
      "Epoch 2 : Training loss: 0.1639051521254742 Test loss: 0.16293967358366115\n",
      "Epoch 3 : Training loss: 0.1608389564148647 Test loss: 0.1598888346150941\n",
      "Epoch 4 : Training loss: 0.15923832879645863 Test loss: 0.15829178971831984\n",
      "Epoch 5 : Training loss: 0.15618143009739904 Test loss: 0.15525117703978544\n",
      "Epoch 6 : Training loss: 0.15506805598853657 Test loss: 0.1541347314270512\n",
      "Epoch 7 : Training loss: 0.15267414494620074 Test loss: 0.15175533660011073\n",
      "Epoch 8 : Training loss: 0.1512065115963263 Test loss: 0.15030009750041332\n",
      "Epoch 9 : Training loss: 0.1495275167101783 Test loss: 0.14861867209063506\n"
     ]
    }
   ],
   "source": [
    "w_SGD, epochs, step, gamma = np.zeros(61), 10, 100, 1e-4\n",
    "for i in range((int)(epochs)):\n",
    "    w_SGD, loss_tr = mean_squared_error_sgd(y_tr, tx_tr, w_SGD, step, gamma)\n",
    "    loss_te = compute_mse(y_te, tx_te, w_SGD)\n",
    "    print(f\"Epoch {i} : Training loss: {loss_tr} Test loss: {loss_te}\")"
   ]
  },
  {
   "cell_type": "markdown",
   "id": "120442c2",
   "metadata": {},
   "source": [
    "#### Calculating the accuracy on the test set (with predictions = 0 or 1)"
   ]
  },
  {
   "cell_type": "code",
   "execution_count": 36,
   "id": "5ac680a8",
   "metadata": {},
   "outputs": [
    {
     "name": "stdout",
     "output_type": "stream",
     "text": [
      "Accuracy for these w: 66.22600000000001%\n"
     ]
    }
   ],
   "source": [
    "y_hat_cont = tx_te@w_SGD\n",
    "y_hat = [1 if yi > 0.40 else 0 for yi in y_hat_cont]\n",
    "accuracy = 1-abs(y_te-y_hat).mean()\n",
    "print(f\"Accuracy for these w: {accuracy*100}%\")"
   ]
  },
  {
   "cell_type": "markdown",
   "id": "0c498d12",
   "metadata": {},
   "source": [
    "### Least squares"
   ]
  },
  {
   "cell_type": "code",
   "execution_count": 37,
   "id": "3729fcfa",
   "metadata": {},
   "outputs": [
    {
     "name": "stdout",
     "output_type": "stream",
     "text": [
      "Training loss: 0.07893029210502374\n",
      "Test loss: 0.4803123114339245\n"
     ]
    }
   ],
   "source": [
    "w_LS, loss_tr = least_squares(y_tr, tx_tr)\n",
    "loss_te = compute_mse(y_te, tx_te, w_LS)\n",
    "print(f\"Training loss: {loss_tr}\\nTest loss: {loss_te}\")"
   ]
  },
  {
   "cell_type": "code",
   "execution_count": 38,
   "id": "d2cde125",
   "metadata": {},
   "outputs": [
    {
     "name": "stdout",
     "output_type": "stream",
     "text": [
      "Accuracy for these w: 63.528000000000006%\n"
     ]
    }
   ],
   "source": [
    "y_hat_cont = tx_te@w_LS\n",
    "y_hat = [1 if yi > 0.45 else 0 for yi in y_hat_cont]\n",
    "accuracy = 1-abs(y_te-y_hat).mean()\n",
    "print(f\"Accuracy for these w: {accuracy*100}%\")"
   ]
  },
  {
   "cell_type": "markdown",
   "id": "9557525a",
   "metadata": {},
   "source": [
    "### Ridge regression"
   ]
  },
  {
   "cell_type": "code",
   "execution_count": 39,
   "id": "741e5c42",
   "metadata": {},
   "outputs": [
    {
     "name": "stdout",
     "output_type": "stream",
     "text": [
      "Training loss: 0.08429551564465801\n",
      "\n"
     ]
    }
   ],
   "source": [
    "lambda_ = 0.1\n",
    "w_REG, loss_tr = ridge_regression(y_tr, tx_tr, lambda_)\n",
    "print(f\"Training loss: {loss_tr}\\n\")"
   ]
  },
  {
   "cell_type": "code",
   "execution_count": 40,
   "id": "c137ae3d",
   "metadata": {},
   "outputs": [
    {
     "name": "stdout",
     "output_type": "stream",
     "text": [
      "Accuracy for these w: 75.38199999999999%\n"
     ]
    }
   ],
   "source": [
    "y_hat_cont = tx_te@w_REG\n",
    "y_hat = [1 if yi > 0.44 else 0 for yi in y_hat_cont]\n",
    "accuracy = 1-abs(y_te-y_hat).mean()\n",
    "print(f\"Accuracy for these w: {accuracy*100}%\")"
   ]
  },
  {
   "cell_type": "markdown",
   "id": "d51d88db",
   "metadata": {},
   "source": [
    "### Logistic regression using gradient descent or SGD (y ∈ {0, 1})"
   ]
  },
  {
   "cell_type": "code",
   "execution_count": 41,
   "id": "77ab45cd",
   "metadata": {},
   "outputs": [
    {
     "name": "stdout",
     "output_type": "stream",
     "text": [
      "Epoch 0 : Training loss: 0.6243600500387212 Test loss: 0.62457286172449\n",
      "Epoch 1 : Training loss: 0.593205984283619 Test loss: 0.5934372911057337\n",
      "Epoch 2 : Training loss: 0.5737868030557274 Test loss: 0.5739620644196196\n",
      "Epoch 3 : Training loss: 0.560167604315369 Test loss: 0.560276078415358\n",
      "Epoch 4 : Training loss: 0.54996806686094 Test loss: 0.5500134453776241\n",
      "Epoch 5 : Training loss: 0.5419939171708801 Test loss: 0.5419822905684587\n",
      "Epoch 6 : Training loss: 0.5355680806924402 Test loss: 0.5355053702509995\n",
      "Epoch 7 : Training loss: 0.5302726785631282 Test loss: 0.5301641429441151\n",
      "Epoch 8 : Training loss: 0.5258325815625597 Test loss: 0.525682799795748\n",
      "Epoch 9 : Training loss: 0.5220572169271884 Test loss: 0.5218701928624389\n",
      "Epoch 10 : Training loss: 0.5188091850967645 Test loss: 0.5185884729929122\n",
      "Epoch 11 : Training loss: 0.5159862571921203 Test loss: 0.515735070010045\n",
      "Epoch 12 : Training loss: 0.5135104841994478 Test loss: 0.5132317707517942\n",
      "Epoch 13 : Training loss: 0.5113212906081536 Test loss: 0.5110177799310972\n",
      "Epoch 14 : Training loss: 0.5093709131729622 Test loss: 0.5090451279427268\n",
      "Epoch 15 : Training loss: 0.5076212847692755 Test loss: 0.5072755249002313\n",
      "Epoch 16 : Training loss: 0.5060418237174 Test loss: 0.5056781266397165\n",
      "Epoch 17 : Training loss: 0.5046077412742074 Test loss: 0.5042278490184784\n",
      "Epoch 18 : Training loss: 0.5032986143721545 Test loss: 0.5029039996881257\n",
      "Epoch 19 : Training loss: 0.5020972658755904 Test loss: 0.5016892276093605\n",
      "Epoch 20 : Training loss: 0.5009891175064781 Test loss: 0.5005688820548743\n",
      "Epoch 21 : Training loss: 0.4999618602596429 Test loss: 0.49953063415210297\n",
      "Epoch 22 : Training loss: 0.49900516258077504 Test loss: 0.498564137565122\n",
      "Epoch 23 : Training loss: 0.4981103491193424 Test loss: 0.49766068563503457\n",
      "Epoch 24 : Training loss: 0.4972700996402185 Test loss: 0.4968129084434953\n",
      "Epoch 25 : Training loss: 0.4964781994526804 Test loss: 0.49601452917808736\n",
      "Epoch 26 : Training loss: 0.49572934206838326 Test loss: 0.4952601732570636\n",
      "Epoch 27 : Training loss: 0.4950189739939431 Test loss: 0.4945452176413026\n",
      "Epoch 28 : Training loss: 0.49434317133102496 Test loss: 0.49386566990285663\n",
      "Epoch 29 : Training loss: 0.4936985402010917 Test loss: 0.49321806968975046\n",
      "Epoch 30 : Training loss: 0.49308213522673605 Test loss: 0.4925994074721348\n",
      "Epoch 31 : Training loss: 0.49249139192128566 Test loss: 0.4920070569111983\n",
      "Epoch 32 : Training loss: 0.49192406997450094 Test loss: 0.49143871815284224\n",
      "Epoch 33 : Training loss: 0.49137820524670306 Test loss: 0.4908923700261654\n",
      "Epoch 34 : Training loss: 0.49085206891484867 Test loss: 0.4903662296376225\n",
      "Epoch 35 : Training loss: 0.49034413270407784 Test loss: 0.4898587182418429\n",
      "Epoch 36 : Training loss: 0.4898530394876729 Test loss: 0.4893684325450379\n",
      "Epoch 37 : Training loss: 0.48937757872806864 Test loss: 0.4888941207511329\n",
      "Epoch 38 : Training loss: 0.48891666626459124 Test loss: 0.4884346627076958\n",
      "Epoch 39 : Training loss: 0.488469327881143 Test loss: 0.48798905349478894\n",
      "Epoch 40 : Training loss: 0.4880346859952398 Test loss: 0.48755638978890603\n",
      "Epoch 41 : Training loss: 0.4876119487755087 Test loss: 0.487135858373137\n",
      "Epoch 42 : Training loss: 0.4872004010468527 Test loss: 0.4867267262602421\n",
      "Epoch 43 : Training loss: 0.4867993964589767 Test loss: 0.48632833201965453\n",
      "Epoch 44 : Training loss: 0.4864083505296017 Test loss: 0.48594007801645694\n",
      "Epoch 45 : Training loss: 0.48602673429148785 Test loss: 0.48556142335861496\n",
      "Epoch 46 : Training loss: 0.48565406835913005 Test loss: 0.4851918774081726\n",
      "Epoch 47 : Training loss: 0.48528991729490484 Test loss: 0.48483099375751093\n",
      "Epoch 48 : Training loss: 0.4849338842136123 Test loss: 0.48447836462085064\n",
      "Epoch 49 : Training loss: 0.4845856056330784 Test loss: 0.48413361565318414\n",
      "Epoch 50 : Training loss: 0.48424474665603245 Test loss: 0.48379640127641094\n",
      "Epoch 51 : Training loss: 0.4839109966349253 Test loss: 0.48346640064092905\n",
      "Epoch 52 : Training loss: 0.4835840654954212 Test loss: 0.4831433143493391\n",
      "Epoch 53 : Training loss: 0.48326368085297244 Test loss: 0.4828268620014867\n",
      "Epoch 54 : Training loss: 0.4829495859555907 Test loss: 0.4825167805042092\n",
      "Epoch 55 : Training loss: 0.4826415383616741 Test loss: 0.4822128229725109\n",
      "Epoch 56 : Training loss: 0.48233930916378037 Test loss: 0.4819147579825319\n",
      "Epoch 57 : Training loss: 0.48204268253087035 Test loss: 0.48162236894413085\n",
      "Epoch 58 : Training loss: 0.48175145536482206 Test loss: 0.48133545342779077\n",
      "Epoch 59 : Training loss: 0.4814654369290691 Test loss: 0.48105382236968713\n",
      "Epoch 60 : Training loss: 0.48118444837803587 Test loss: 0.4807772991548833\n",
      "Epoch 61 : Training loss: 0.48090832217378165 Test loss: 0.48050571862376057\n",
      "Epoch 62 : Training loss: 0.4806369014121258 Test loss: 0.48023892606101687\n",
      "Epoch 63 : Training loss: 0.48037003909590115 Test loss: 0.4799767762198719\n",
      "Epoch 64 : Training loss: 0.48010759739410935 Test loss: 0.4797191324180653\n",
      "Epoch 65 : Training loss: 0.479849446919233 Test loss: 0.47946586572524\n",
      "Epoch 66 : Training loss: 0.47959546604580583 Test loss: 0.47921685424766763\n",
      "Epoch 67 : Training loss: 0.4793455402845321 Test loss: 0.4789719825071751\n",
      "Epoch 68 : Training loss: 0.4790995617190841 Test loss: 0.4787311409060659\n",
      "Epoch 69 : Training loss: 0.47885742850752727 Test loss: 0.4784942252676701\n",
      "Epoch 70 : Training loss: 0.47861904444688613 Test loss: 0.4782611364418342\n",
      "Epoch 71 : Training loss: 0.4783843185972655 Test loss: 0.4780317799653001\n",
      "Epoch 72 : Training loss: 0.4781531649607407 Test loss: 0.47780606576798607\n",
      "Epoch 73 : Training loss: 0.4779255022095207 Test loss: 0.4775839079173182\n",
      "Epoch 74 : Training loss: 0.47770125345734366 Test loss: 0.47736522439379825\n",
      "Epoch 75 : Training loss: 0.47748034606740436 Test loss: 0.4771499368918313\n",
      "Epoch 76 : Training loss: 0.4772627114891249 Test loss: 0.4769379706404499\n",
      "Epoch 77 : Training loss: 0.4770482851145578 Test loss: 0.4767292542389293\n",
      "Epoch 78 : Training loss: 0.4768370061430815 Test loss: 0.47652371950241007\n",
      "Epoch 79 : Training loss: 0.476628817440321 Test loss: 0.47632130131252726\n",
      "Epoch 80 : Training loss: 0.47642366537415876 Test loss: 0.4761219374677508\n",
      "Epoch 81 : Training loss: 0.4762214996079106 Test loss: 0.47592556852774853\n",
      "Epoch 82 : Training loss: 0.4760222728292737 Test loss: 0.47573213764575123\n",
      "Epoch 83 : Training loss: 0.47582594039505866 Test loss: 0.47554159038289107\n",
      "Epoch 84 : Training loss: 0.4756324598777461 Test loss: 0.4753538744991154\n",
      "Epoch 85 : Training loss: 0.475441790511935 Test loss: 0.4751689397170018\n",
      "Epoch 86 : Training loss: 0.47525389255683165 Test loss: 0.4749867374579303\n",
      "Epoch 87 : Training loss: 0.47506872661268595 Test loss: 0.4748072205547943\n",
      "Epoch 88 : Training loss: 0.4748862529494151 Test loss: 0.47463034295139084\n",
      "Epoch 89 : Training loss: 0.47470643091766257 Test loss: 0.4744560594048507\n",
      "Epoch 90 : Training loss: 0.47452921851010316 Test loss: 0.4742843252122931\n",
      "Epoch 91 : Training loss: 0.4743545721218843 Test loss: 0.4741150959844271\n",
      "Epoch 92 : Training loss: 0.4741824465275333 Test loss: 0.47394832748567034\n",
      "Epoch 93 : Training loss: 0.474012795056312 Test loss: 0.47378397555244545\n",
      "Epoch 94 : Training loss: 0.4738455699189193 Test loss: 0.47362199609023087\n",
      "Epoch 95 : Training loss: 0.47368072262274724 Test loss: 0.47346234513851054\n",
      "Epoch 96 : Training loss: 0.4735182044122326 Test loss: 0.473304978983933\n",
      "Epoch 97 : Training loss: 0.47335796668198515 Test loss: 0.4731498542977312\n",
      "Epoch 98 : Training loss: 0.4731999613275925 Test loss: 0.4729969282741065\n",
      "Epoch 99 : Training loss: 0.4730441410168038 Test loss: 0.47284615875078645\n"
     ]
    }
   ],
   "source": [
    "# We run GD step times per epoch, for epochs epochs (same as running GD for epochs*step just lets us print intermediate results)\n",
    "w_GD_log, epochs, step, gamma = np.zeros(61), 100, 50, 1e-2\n",
    "loss_tr_GD_log = []\n",
    "loss_te_GD_log = []\n",
    "for i in range((int)(epochs)):\n",
    "    w_GD_log, loss_tr = logistic_regression(y_tr, tx_tr, w_GD_log, step, gamma)\n",
    "    loss_te = compute_log_loss(y_te, tx_te, w_GD_log)\n",
    "    loss_tr_GD_log.append(loss_tr)\n",
    "    loss_te_GD_log.append(loss_te)\n",
    "    print(f\"Epoch {i} : Training loss: {loss_tr} Test loss: {loss_te}\")"
   ]
  },
  {
   "cell_type": "markdown",
   "id": "261c9446",
   "metadata": {},
   "source": [
    "#### Plotting the resulting losses"
   ]
  },
  {
   "cell_type": "code",
   "execution_count": 42,
   "id": "4c5adc13",
   "metadata": {},
   "outputs": [
    {
     "data": {
      "text/plain": [
       "[<matplotlib.lines.Line2D at 0x2ca80e160a0>]"
      ]
     },
     "execution_count": 42,
     "metadata": {},
     "output_type": "execute_result"
    },
    {
     "data": {
      "image/png": "[encoded data removed]",
      "text/plain": [
       "<Figure size 640x480 with 1 Axes>"
      ]
     },
     "metadata": {},
     "output_type": "display_data"
    }
   ],
   "source": [
    "plt.plot(range(len(loss_tr_GD_log)), loss_tr_GD_log, c='red')\n",
    "plt.plot(range(len(loss_te_GD_log)), loss_te_GD_log, c='blue')"
   ]
  },
  {
   "cell_type": "markdown",
   "id": "035f5f37",
   "metadata": {},
   "source": [
    "#### Calculating the accuracy on the test set (with predictions = -1 or 1)"
   ]
  },
  {
   "cell_type": "code",
   "execution_count": 55,
   "id": "7efad889",
   "metadata": {},
   "outputs": [
    {
     "name": "stdout",
     "output_type": "stream",
     "text": [
      "Accuracy for these w: 76.964%\n"
     ]
    }
   ],
   "source": [
    "accuracy = compute_accuracy_log(tx_te, y_te, w_GD_log, threshold=0.5)\n",
    "print(f\"Accuracy for these w: {accuracy*100}%\")"
   ]
  },
  {
   "cell_type": "code",
   "execution_count": 54,
   "id": "2e22dd16",
   "metadata": {},
   "outputs": [],
   "source": [
    "x_test_log = replace_min_999_by_col_mean(x_test) # Handle invalid values\n",
    "\n",
    "x_test_log = build_poly(x_test_log, 2)\n",
    "\n",
    "x_test_log, mean_x_test_log, std_x_test_log = standardize(x_test_log) # Standardize x\n",
    "\n",
    "tx_test_log = add_x_bias(x_test_log)\n",
    "\n",
    "y_hat = build_prediction_log(tx_test_log, w_GD_log, threshold=0.5, minus_one = True)\n",
    "write_to_csv(np.column_stack((y_indexes, y_hat)), \"test_output.csv\")"
   ]
  },
  {
   "cell_type": "markdown",
   "id": "038db552",
   "metadata": {},
   "source": [
    "### Regularized logistic regression using gradient descent or SGD (y ∈ {0, 1}, with regularization term λ∥w∥**2)"
   ]
  },
  {
   "cell_type": "code",
   "execution_count": null,
   "id": "b77d3e58",
   "metadata": {},
   "outputs": [],
   "source": []
  }
 ],
 "metadata": {
  "kernelspec": {
   "display_name": "Python 3 (ipykernel)",
   "language": "python",
   "name": "python3"
  },
  "language_info": {
   "codemirror_mode": {
    "name": "ipython",
    "version": 3
   },
   "file_extension": ".py",
   "mimetype": "text/x-python",
   "name": "python",
   "nbconvert_exporter": "python",
   "pygments_lexer": "ipython3",
   "version": "3.8.13"
  }
 },
 "nbformat": 4,
 "nbformat_minor": 5
}
