{
 "cells": [
  {
   "cell_type": "code",
   "execution_count": 67,
   "id": "e36b7a6e",
   "metadata": {},
   "outputs": [
    {
     "name": "stdout",
     "output_type": "stream",
     "text": [
      "The autoreload extension is already loaded. To reload it, use:\n",
      "  %reload_ext autoreload\n"
     ]
    }
   ],
   "source": [
    "%matplotlib inline\n",
    "import numpy as np\n",
    "import matplotlib.pyplot as plt\n",
    "from helpers import *\n",
    "from implementations import *\n",
    "%load_ext autoreload\n",
    "%autoreload 2"
   ]
  },
  {
   "cell_type": "code",
   "execution_count": 68,
   "id": "f3baccc1",
   "metadata": {},
   "outputs": [
    {
     "name": "stdout",
     "output_type": "stream",
     "text": [
      "(250000,)\n",
      "(250000, 31)\n"
     ]
    }
   ],
   "source": [
    "y, x = load_data(train=True) # Load train data\n",
    "for i in range(np.shape(x)[1] + 1): # Iterate through x to replace -999 by the mean of its column (which is more natural)\n",
    "    col_mean = np.nanmean(np.ma.MaskedArray(x[i, :], mask=(np.array(x[i, :]) == -999)))\n",
    "    x[i] = [xi if xi != -999 else col_mean for xi in x[i, :]]\n",
    "standardize(x)\n",
    "y, tx = build_model_data(y, x) # Add the bias term in x\n",
    "print(np.shape(y))\n",
    "print(np.shape(tx))"
   ]
  },
  {
   "cell_type": "code",
   "execution_count": 81,
   "id": "f771e707",
   "metadata": {},
   "outputs": [],
   "source": [
    "w, loss = least_squares_SGD(y, tx, np.zeros(31), 100, 0.00000001) # Gamma is really small because w's tend to be really small compared to the gradient"
   ]
  },
  {
   "cell_type": "code",
   "execution_count": null,
   "id": "3ce0f1f7",
   "metadata": {},
   "outputs": [],
   "source": []
  },
  {
   "cell_type": "code",
   "execution_count": null,
   "id": "ca7e2600",
   "metadata": {},
   "outputs": [],
   "source": []
  }
 ],
 "metadata": {
  "kernelspec": {
   "display_name": "Python 3 (ipykernel)",
   "language": "python",
   "name": "python3"
  },
  "language_info": {
   "codemirror_mode": {
    "name": "ipython",
    "version": 3
   },
   "file_extension": ".py",
   "mimetype": "text/x-python",
   "name": "python",
   "nbconvert_exporter": "python",
   "pygments_lexer": "ipython3",
   "version": "3.8.13"
  }
 },
 "nbformat": 4,
 "nbformat_minor": 5
}
