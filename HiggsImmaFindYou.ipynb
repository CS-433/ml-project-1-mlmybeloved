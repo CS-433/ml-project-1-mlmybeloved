{
 "cells": [
  {
   "cell_type": "markdown",
   "id": "0ce48c91",
   "metadata": {},
   "source": [
    "## Imports"
   ]
  },
  {
   "cell_type": "code",
   "execution_count": 1,
   "id": "e36b7a6e",
   "metadata": {},
   "outputs": [],
   "source": [
    "%matplotlib inline\n",
    "import numpy as np\n",
    "import matplotlib.pyplot as plt\n",
    "from implementations import *\n",
    "%load_ext autoreload\n",
    "%autoreload 2"
   ]
  },
  {
   "cell_type": "markdown",
   "id": "fbd8eeb2",
   "metadata": {},
   "source": [
    "## Assignment"
   ]
  },
  {
   "cell_type": "markdown",
   "id": "58af40ee",
   "metadata": {},
   "source": [
    "### Pre-processing"
   ]
  },
  {
   "cell_type": "code",
   "execution_count": 2,
   "id": "37127a98",
   "metadata": {},
   "outputs": [],
   "source": [
    "# Takes a long time; only run once\n",
    "LOAD_DATA_MODE = {0: \"DER\", 1: \"PRI\", 2: \"ALL\"} # Allows us to switch between DER/PLI values or all\n",
    "y, x = load_data(train=True, mode = LOAD_DATA_MODE[0]) # Load data (DER)\n",
    "y_indexes, x_test = load_data(train=False, mode = LOAD_DATA_MODE[0])"
   ]
  },
  {
   "cell_type": "code",
   "execution_count": 3,
   "id": "b9e2f596",
   "metadata": {},
   "outputs": [],
   "source": [
    "x_tr, x_te, y_tr, y_te = split_data(x, y, 0.8, np.random.seed())\n",
    "x_tr = replace_min_999_by_col_mean(x_tr) # Handle invalid values\n",
    "x_te = replace_min_999_by_col_mean(x_te)\n",
    "\n",
    "x_tr = build_poly_2(x_tr) # Poly exp deg=2\n",
    "x_te = build_poly_2(x_te)\n",
    "\n",
    "x_tr, mean_x_tr, std_x_tr = standardize(x_tr) # Standardize x\n",
    "x_te, mean_x_te, std_x_te = standardize(x_te)\n",
    "\n",
    "tx_tr = add_x_bias(x_tr) # Add bias after normalisation to avoid NaNs\n",
    "tx_te = add_x_bias(x_te)"
   ]
  },
  {
   "cell_type": "code",
   "execution_count": 4,
   "id": "e399d422",
   "metadata": {},
   "outputs": [
    {
     "name": "stdout",
     "output_type": "stream",
     "text": [
      "(200000, 105)\n",
      "(50000, 105)\n"
     ]
    }
   ],
   "source": [
    "print(tx_tr.shape)\n",
    "print(tx_te.shape)"
   ]
  },
  {
   "cell_type": "markdown",
   "id": "fd04e81f",
   "metadata": {},
   "source": [
    "### Linear regression using gradient descent"
   ]
  },
  {
   "cell_type": "code",
   "execution_count": null,
   "id": "f3baccc1",
   "metadata": {
    "scrolled": false
   },
   "outputs": [],
   "source": [
    "# We run GD step times per epoch, for epochs epochs (same as running GD for epochs*step just lets us print intermediate results)\n",
    "w_GD, epochs, step, gamma = np.zeros(105), 100, 150, 1e-2\n",
    "loss_tr_GD = []\n",
    "loss_te_GD = []\n",
    "for i in range((int)(epochs)):\n",
    "    w_GD, loss_tr = mean_squared_error_gd(y_tr, tx_tr, w_GD, step, gamma)\n",
    "    loss_te = compute_mse(y_te, tx_te, w_GD)\n",
    "    loss_tr_GD.append(loss_tr)\n",
    "    loss_te_GD.append(loss_te)\n",
    "    print(f\"Epoch {i} : Training loss: {loss_tr} Test loss: {loss_te}\")"
   ]
  },
  {
   "cell_type": "markdown",
   "id": "26a94377",
   "metadata": {},
   "source": [
    "#### Plotting the resulting losses"
   ]
  },
  {
   "cell_type": "code",
   "execution_count": null,
   "id": "10adec5c",
   "metadata": {},
   "outputs": [],
   "source": [
    "plt.plot(range(len(loss_tr_GD)), loss_tr_GD, c='red')\n",
    "plt.plot(range(len(loss_te_GD)), loss_te_GD, c='blue')"
   ]
  },
  {
   "cell_type": "markdown",
   "id": "1549d116",
   "metadata": {},
   "source": [
    "#### Calculating the accuracy on the test set (with predictions = 0 or 1)"
   ]
  },
  {
   "cell_type": "code",
   "execution_count": null,
   "id": "dc226dea-116f-487b-b114-1050791d8f7f",
   "metadata": {
    "scrolled": true
   },
   "outputs": [],
   "source": [
    "best_threshold, best_accruacy = threshold_selection_and_plot(tx_te, y_te, w_GD)\n",
    "print(\"best threshold=\", best_threshold,\"\\nbest accruacy=\",best_accruacy)"
   ]
  },
  {
   "cell_type": "markdown",
   "id": "1b53eef6",
   "metadata": {},
   "source": [
    "#### Saving for a submission"
   ]
  },
  {
   "cell_type": "code",
   "execution_count": null,
   "id": "70bc433e",
   "metadata": {},
   "outputs": [],
   "source": [
    "x_test_GD = replace_min_999_by_col_mean(x_test) # Handle invalid values\n",
    "\n",
    "x_test_GD = build_poly_2(x_test_GD) # Build polynomial expansion\n",
    "\n",
    "x_test_GD, mean_x_test_GD, std_x_test_GD = standardize(x_test_GD) # Standardize x\n",
    "\n",
    "tx_test_GD = add_x_bias(x_test_GD)\n",
    "\n",
    "y_hat = build_prediction(tx_test_GD, w_GD, 0.38, True)\n",
    "write_to_csv(np.column_stack((y_indexes, y_hat)), \"test_output.csv\") # Accuracy 0.745 F1 0.573"
   ]
  },
  {
   "cell_type": "markdown",
   "id": "b1b9588c",
   "metadata": {},
   "source": [
    "### Linear regression using stochastic gradient descent"
   ]
  },
  {
   "cell_type": "code",
   "execution_count": null,
   "id": "40630c7f",
   "metadata": {
    "scrolled": false
   },
   "outputs": [],
   "source": [
    "w_SGD, epochs, step, gamma = np.zeros(105), 100, 150, 1e-2\n",
    "for i in range((int)(epochs)):\n",
    "    w_SGD, loss_tr = mean_squared_error_sgd(y_tr, tx_tr, w_SGD, step, gamma)\n",
    "    loss_te = compute_mse(y_te, tx_te, w_SGD)\n",
    "    print(f\"Epoch {i} : Training loss: {loss_tr} Test loss: {loss_te}\")"
   ]
  },
  {
   "cell_type": "markdown",
   "id": "120442c2",
   "metadata": {},
   "source": [
    "#### Calculating the accuracy on the test set (with predictions = 0 or 1)"
   ]
  },
  {
   "cell_type": "code",
   "execution_count": null,
   "id": "569050d8",
   "metadata": {
    "scrolled": false
   },
   "outputs": [],
   "source": [
    "best_threshold, best_accruacy = threshold_selection_and_plot(tx_te, y_te, w_SGD)\n",
    "print(\"best threshold=\", best_threshold,\"\\nbest accruacy=\",best_accruacy)"
   ]
  },
  {
   "cell_type": "markdown",
   "id": "937872e1",
   "metadata": {},
   "source": [
    "#### Saving for a submission"
   ]
  },
  {
   "cell_type": "code",
   "execution_count": null,
   "id": "0b1ff833",
   "metadata": {},
   "outputs": [],
   "source": [
    "x_test_SGD = replace_min_999_by_col_mean(x_test) # Handle invalid values\n",
    "\n",
    "x_test_SGD = build_poly_2(x_test_SGD) # Build polynomial expansion\n",
    "\n",
    "x_test_SGD, mean_x_test_SGD, std_x_test_SGD = standardize(x_test_SGD) # Standardize x\n",
    "\n",
    "tx_test_SGD = add_x_bias(x_test_SGD)\n",
    "\n",
    "y_hat = build_prediction(tx_test_SGD, w_SGD, 0.3783, True)\n",
    "write_to_csv(np.column_stack((y_indexes, y_hat)), \"test_output.csv\") # Accuracy 0.753 F1 0.598"
   ]
  },
  {
   "cell_type": "markdown",
   "id": "0c498d12",
   "metadata": {},
   "source": [
    "### Least squares"
   ]
  },
  {
   "cell_type": "code",
   "execution_count": 5,
   "id": "3729fcfa",
   "metadata": {},
   "outputs": [
    {
     "name": "stdout",
     "output_type": "stream",
     "text": [
      "Training loss: 0.07833258394751136\n",
      "Test loss: 0.08397215867860833\n"
     ]
    }
   ],
   "source": [
    "w_LS, loss_tr = least_squares(y_tr, tx_tr)\n",
    "loss_te = compute_mse(y_te, tx_te, w_LS)\n",
    "print(f\"Training loss: {loss_tr}\\nTest loss: {loss_te}\")"
   ]
  },
  {
   "cell_type": "code",
   "execution_count": 6,
   "id": "e8d06b40-a347-4c8b-b4d0-e6bda402883e",
   "metadata": {
    "scrolled": false
   },
   "outputs": [
    {
     "name": "stdout",
     "output_type": "stream",
     "text": [
      "best threshold= 0.47647647647647645 \n",
      "best accruacy= 0.7756000000000001\n"
     ]
    },
    {
     "data": {
      "image/png": "[encoded data removed]",
      "text/plain": [
       "<Figure size 640x480 with 1 Axes>"
      ]
     },
     "metadata": {},
     "output_type": "display_data"
    }
   ],
   "source": [
    "best_threshold, best_accruacy = threshold_selection_and_plot(tx_te, y_te, w_LS)\n",
    "print(\"best threshold=\", best_threshold,\"\\nbest accruacy=\",best_accruacy)"
   ]
  },
  {
   "cell_type": "markdown",
   "id": "0a1d6770",
   "metadata": {},
   "source": [
    "#### Saving for a submission"
   ]
  },
  {
   "cell_type": "code",
   "execution_count": null,
   "id": "f6742da2",
   "metadata": {},
   "outputs": [],
   "source": [
    "x_test_LS = replace_min_999_by_col_mean(x_test) # Handle invalid values\n",
    "\n",
    "x_test_LS = build_poly_2(x_test_LS) # Build polynomial expansion\n",
    "\n",
    "x_test_LS, mean_x_test_LS, std_x_test_LS = standardize(x_test_LS) # Standardize x\n",
    "\n",
    "tx_test_LS = add_x_bias(x_test_LS)\n",
    "\n",
    "y_hat = build_prediction(tx_test_LS, w_LS, 0.3783, True)\n",
    "write_to_csv(np.column_stack((y_indexes, y_hat)), \"test_output.csv\") # Accuracy 0.748 F1 0.684"
   ]
  },
  {
   "cell_type": "markdown",
   "id": "9557525a",
   "metadata": {},
   "source": [
    "### Ridge regression"
   ]
  },
  {
   "cell_type": "code",
   "execution_count": 7,
   "id": "741e5c42",
   "metadata": {},
   "outputs": [
    {
     "name": "stdout",
     "output_type": "stream",
     "text": [
      "Training loss: 0.0786334597424911\n",
      "\n"
     ]
    }
   ],
   "source": [
    "lambda_ = 0.00233\n",
    "w_REG, loss_tr = ridge_regression(y_tr, tx_tr, lambda_)\n",
    "print(f\"Training loss: {loss_tr}\\n\")"
   ]
  },
  {
   "cell_type": "code",
   "execution_count": 8,
   "id": "8c54c606-5809-41f9-9e70-a2134e9c0632",
   "metadata": {
    "scrolled": true
   },
   "outputs": [
    {
     "ename": "KeyboardInterrupt",
     "evalue": "",
     "output_type": "error",
     "traceback": [
      "\u001b[1;31m---------------------------------------------------------------------------\u001b[0m",
      "\u001b[1;31mKeyboardInterrupt\u001b[0m                         Traceback (most recent call last)",
      "Input \u001b[1;32mIn [8]\u001b[0m, in \u001b[0;36m<cell line: 2>\u001b[1;34m()\u001b[0m\n\u001b[0;32m      1\u001b[0m \u001b[38;5;66;03m# (very) Long running\u001b[39;00m\n\u001b[1;32m----> 2\u001b[0m \u001b[43mridge_lambdas_and_threshold\u001b[49m\u001b[43m \u001b[49m\u001b[43m(\u001b[49m\u001b[43my_tr\u001b[49m\u001b[43m,\u001b[49m\u001b[43m \u001b[49m\u001b[43mtx_tr\u001b[49m\u001b[43m,\u001b[49m\u001b[43m \u001b[49m\u001b[43my_te\u001b[49m\u001b[43m,\u001b[49m\u001b[43m \u001b[49m\u001b[43mtx_te\u001b[49m\u001b[43m)\u001b[49m\n",
      "File \u001b[1;32m~\\Desktop\\ML_project\\ml-project-1-mlmybeloved\\implementations.py:558\u001b[0m, in \u001b[0;36mridge_lambdas_and_threshold\u001b[1;34m(y_tr, tx_tr, y_te, tx_te)\u001b[0m\n\u001b[0;32m    556\u001b[0m     w_REG, loss_tr \u001b[38;5;241m=\u001b[39m ridge_regression(y_tr, tx_tr, lamb)\n\u001b[0;32m    557\u001b[0m     threshold \u001b[38;5;241m=\u001b[39m np\u001b[38;5;241m.\u001b[39mlinspace(\u001b[38;5;241m0\u001b[39m, \u001b[38;5;241m1\u001b[39m, \u001b[38;5;241m1000\u001b[39m)\n\u001b[1;32m--> 558\u001b[0m     accruacy \u001b[38;5;241m=\u001b[39m [compute_accuracy(tx_te, y_te, w_REG, j) \u001b[38;5;28;01mfor\u001b[39;00m j \u001b[38;5;129;01min\u001b[39;00m threshold]\n\u001b[0;32m    559\u001b[0m     recorded_vals\u001b[38;5;241m.\u001b[39mappend((np\u001b[38;5;241m.\u001b[39mmax(accruacy), threshold[np\u001b[38;5;241m.\u001b[39margmax(accruacy)], lamb))\n\u001b[0;32m    561\u001b[0m optindex \u001b[38;5;241m=\u001b[39m np\u001b[38;5;241m.\u001b[39margmax([elem[\u001b[38;5;241m0\u001b[39m] \u001b[38;5;28;01mfor\u001b[39;00m elem \u001b[38;5;129;01min\u001b[39;00m recorded_vals])\n",
      "File \u001b[1;32m~\\Desktop\\ML_project\\ml-project-1-mlmybeloved\\implementations.py:558\u001b[0m, in \u001b[0;36m<listcomp>\u001b[1;34m(.0)\u001b[0m\n\u001b[0;32m    556\u001b[0m     w_REG, loss_tr \u001b[38;5;241m=\u001b[39m ridge_regression(y_tr, tx_tr, lamb)\n\u001b[0;32m    557\u001b[0m     threshold \u001b[38;5;241m=\u001b[39m np\u001b[38;5;241m.\u001b[39mlinspace(\u001b[38;5;241m0\u001b[39m, \u001b[38;5;241m1\u001b[39m, \u001b[38;5;241m1000\u001b[39m)\n\u001b[1;32m--> 558\u001b[0m     accruacy \u001b[38;5;241m=\u001b[39m [\u001b[43mcompute_accuracy\u001b[49m\u001b[43m(\u001b[49m\u001b[43mtx_te\u001b[49m\u001b[43m,\u001b[49m\u001b[43m \u001b[49m\u001b[43my_te\u001b[49m\u001b[43m,\u001b[49m\u001b[43m \u001b[49m\u001b[43mw_REG\u001b[49m\u001b[43m,\u001b[49m\u001b[43m \u001b[49m\u001b[43mj\u001b[49m\u001b[43m)\u001b[49m \u001b[38;5;28;01mfor\u001b[39;00m j \u001b[38;5;129;01min\u001b[39;00m threshold]\n\u001b[0;32m    559\u001b[0m     recorded_vals\u001b[38;5;241m.\u001b[39mappend((np\u001b[38;5;241m.\u001b[39mmax(accruacy), threshold[np\u001b[38;5;241m.\u001b[39margmax(accruacy)], lamb))\n\u001b[0;32m    561\u001b[0m optindex \u001b[38;5;241m=\u001b[39m np\u001b[38;5;241m.\u001b[39margmax([elem[\u001b[38;5;241m0\u001b[39m] \u001b[38;5;28;01mfor\u001b[39;00m elem \u001b[38;5;129;01min\u001b[39;00m recorded_vals])\n",
      "File \u001b[1;32m~\\Desktop\\ML_project\\ml-project-1-mlmybeloved\\implementations.py:454\u001b[0m, in \u001b[0;36mcompute_accuracy\u001b[1;34m(x, y, w, threshold, minus_one)\u001b[0m\n\u001b[0;32m    440\u001b[0m \u001b[38;5;28;01mdef\u001b[39;00m \u001b[38;5;21mcompute_accuracy\u001b[39m(x, y, w, threshold, minus_one \u001b[38;5;241m=\u001b[39m \u001b[38;5;28;01mFalse\u001b[39;00m):\n\u001b[0;32m    441\u001b[0m     \u001b[38;5;124;03m\"\"\"Computes accuracy of weights w on x and y.\u001b[39;00m\n\u001b[0;32m    442\u001b[0m \u001b[38;5;124;03m    \u001b[39;00m\n\u001b[0;32m    443\u001b[0m \u001b[38;5;124;03m    Args:\u001b[39;00m\n\u001b[1;32m   (...)\u001b[0m\n\u001b[0;32m    451\u001b[0m \u001b[38;5;124;03m        accuracy: accuracy of the weights w on x and y.\u001b[39;00m\n\u001b[0;32m    452\u001b[0m \u001b[38;5;124;03m    \"\"\"\u001b[39;00m\n\u001b[1;32m--> 454\u001b[0m     base_mean \u001b[38;5;241m=\u001b[39m \u001b[38;5;28mabs\u001b[39m(y\u001b[38;5;241m-\u001b[39m\u001b[43mbuild_prediction\u001b[49m\u001b[43m(\u001b[49m\u001b[43mx\u001b[49m\u001b[43m,\u001b[49m\u001b[43m \u001b[49m\u001b[43mw\u001b[49m\u001b[43m,\u001b[49m\u001b[43m \u001b[49m\u001b[43mthreshold\u001b[49m\u001b[43m,\u001b[49m\u001b[43m \u001b[49m\u001b[43mminus_one\u001b[49m\u001b[43m)\u001b[49m)\u001b[38;5;241m.\u001b[39mmean()\n\u001b[0;32m    455\u001b[0m     \u001b[38;5;66;03m# Divide the mean by 2 if the values are -1 1 since each error will be counted as 2 (-1 - 1)\u001b[39;00m\n\u001b[0;32m    456\u001b[0m     \u001b[38;5;28;01mif\u001b[39;00m minus_one:\n",
      "File \u001b[1;32m~\\Desktop\\ML_project\\ml-project-1-mlmybeloved\\implementations.py:420\u001b[0m, in \u001b[0;36mbuild_prediction\u001b[1;34m(x, w, threshold, minus_one)\u001b[0m\n\u001b[0;32m    406\u001b[0m \u001b[38;5;124;03m\"\"\"Builds y from x and w using a threshold to get binary outputs.\u001b[39;00m\n\u001b[0;32m    407\u001b[0m \u001b[38;5;124;03m   Note that we go from y being 0 or 1 to y being either -1 or 1 in this method.\u001b[39;00m\n\u001b[0;32m    408\u001b[0m \u001b[38;5;124;03m\u001b[39;00m\n\u001b[1;32m   (...)\u001b[0m\n\u001b[0;32m    416\u001b[0m \u001b[38;5;124;03m    y_hat: predicted y using x w and the threshold.\u001b[39;00m\n\u001b[0;32m    417\u001b[0m \u001b[38;5;124;03m\"\"\"\u001b[39;00m\n\u001b[0;32m    419\u001b[0m second_val \u001b[38;5;241m=\u001b[39m \u001b[38;5;241m-\u001b[39m\u001b[38;5;241m1\u001b[39m \u001b[38;5;28;01mif\u001b[39;00m minus_one \u001b[38;5;28;01melse\u001b[39;00m \u001b[38;5;241m0\u001b[39m\n\u001b[1;32m--> 420\u001b[0m y_hat_cont \u001b[38;5;241m=\u001b[39m \u001b[43mx\u001b[49m\u001b[38;5;129;43m@w\u001b[39;49m\n\u001b[0;32m    421\u001b[0m \u001b[38;5;28;01mreturn\u001b[39;00m [\u001b[38;5;241m1\u001b[39m \u001b[38;5;28;01mif\u001b[39;00m yi \u001b[38;5;241m>\u001b[39m threshold \u001b[38;5;28;01melse\u001b[39;00m second_val \u001b[38;5;28;01mfor\u001b[39;00m yi \u001b[38;5;129;01min\u001b[39;00m y_hat_cont]\n",
      "\u001b[1;31mKeyboardInterrupt\u001b[0m: "
     ]
    }
   ],
   "source": [
    "# (very) Long running\n",
    "ridge_lambdas_and_threshold (y_tr, tx_tr, y_te, tx_te)"
   ]
  },
  {
   "cell_type": "markdown",
   "id": "c85694b8",
   "metadata": {},
   "source": [
    "#### Saving for a submission"
   ]
  },
  {
   "cell_type": "code",
   "execution_count": null,
   "id": "924d1ee5",
   "metadata": {},
   "outputs": [],
   "source": [
    "x_test_REG = replace_min_999_by_col_mean(x_test) # Handle invalid values\n",
    "\n",
    "x_test_REG = build_poly_2(x_test_REG) # Build polynomial expansion\n",
    "\n",
    "x_test_REG, mean_x_test_REG, std_x_test_REG = standardize(x_test_REG) # Standardize x\n",
    "\n",
    "tx_test_REG = add_x_bias(x_test_REG)\n",
    "\n",
    "y_hat = build_prediction(tx_test_REG, w_REG, 0.4854, True)\n",
    "write_to_csv(np.column_stack((y_indexes, y_hat)), \"test_output.csv\") # Accuracy 0.778 F1 0.654"
   ]
  },
  {
   "cell_type": "markdown",
   "id": "d51d88db",
   "metadata": {},
   "source": [
    "### Logistic regression using gradient descent or SGD (y ∈ {0, 1})"
   ]
  },
  {
   "cell_type": "code",
   "execution_count": 9,
   "id": "77ab45cd",
   "metadata": {},
   "outputs": [
    {
     "name": "stdout",
     "output_type": "stream",
     "text": [
      "Epoch 0 : Training loss: 0.46765380009633845 Test loss: 0.4652509284741308\n",
      "Epoch 1 : Training loss: 0.4562804738680431 Test loss: 0.45519311351587505\n",
      "Epoch 2 : Training loss: 0.4503335736298095 Test loss: 0.45012415087069546\n",
      "Epoch 3 : Training loss: 0.4465035453860584 Test loss: 0.44693920932384196\n",
      "Epoch 4 : Training loss: 0.4437926736949704 Test loss: 0.44476680468895025\n",
      "Epoch 5 : Training loss: 0.4417627560523817 Test loss: 0.44321680095081994\n",
      "Epoch 6 : Training loss: 0.44018072478342885 Test loss: 0.44208474238562395\n",
      "Epoch 7 : Training loss: 0.4389095995066811 Test loss: 0.441250821921176\n",
      "Epoch 8 : Training loss: 0.43786387329054755 Test loss: 0.44063817179636416\n",
      "Epoch 9 : Training loss: 0.43698743688989333 Test loss: 0.44019454362959043\n",
      "Epoch 10 : Training loss: 0.4362418096269205 Test loss: 0.43988287652881963\n",
      "Epoch 11 : Training loss: 0.43559959248609387 Test loss: 0.43967595298063167\n",
      "Epoch 12 : Training loss: 0.4350406618894011 Test loss: 0.43955325044188936\n",
      "Epoch 13 : Training loss: 0.4345498537967396 Test loss: 0.4394989857040171\n",
      "Epoch 14 : Training loss: 0.43411549498403573 Test loss: 0.4395008224706437\n",
      "Epoch 15 : Training loss: 0.4337284377409776 Test loss: 0.43954899148103355\n",
      "Epoch 16 : Training loss: 0.43338140517327634 Test loss: 0.4396356827808767\n",
      "Epoch 17 : Training loss: 0.4330685344565955 Test loss: 0.43975460893074025\n",
      "Epoch 18 : Training loss: 0.4327850501367539 Test loss: 0.43990067053218945\n",
      "Epoch 19 : Training loss: 0.4325270252412268 Test loss: 0.44006968890283676\n",
      "Epoch 20 : Training loss: 0.4322912031250818 Test loss: 0.4402581928072294\n",
      "Epoch 21 : Training loss: 0.4320748622815997 Test loss: 0.4404632536007343\n",
      "Epoch 22 : Training loss: 0.4318757121862528 Test loss: 0.4406823634818918\n",
      "Epoch 23 : Training loss: 0.43169181192199235 Test loss: 0.4409133513677625\n",
      "Epoch 24 : Training loss: 0.4315215057450875 Test loss: 0.44115433053737146\n",
      "Epoch 25 : Training loss: 0.431363371504122 Test loss: 0.4414036695087003\n",
      "Epoch 26 : Training loss: 0.4312161791881545 Test loss: 0.4416599735806339\n",
      "Epoch 27 : Training loss: 0.43107885780894567 Test loss: 0.4419220640286863\n",
      "Epoch 28 : Training loss: 0.4309504692288713 Test loss: 0.4421889482843707\n",
      "Epoch 29 : Training loss: 0.4308301875889269 Test loss: 0.4424597835733199\n"
     ]
    }
   ],
   "source": [
    "# We run GD step times per epoch, for epochs epochs (same as running GD for epochs*step just lets us print intermediate results)\n",
    "w_GD_log, epochs, step, gamma = np.zeros(105), 30, 150, 0.5\n",
    "loss_tr_GD_log = []\n",
    "loss_te_GD_log = []\n",
    "w_GD_log_LIST = []\n",
    "for i in range((int)(epochs)):\n",
    "    w_GD_log, loss_tr = logistic_regression(y_tr, tx_tr, w_GD_log, step, gamma)\n",
    "    loss_te = compute_log_loss(y_te, tx_te, w_GD_log)\n",
    "    loss_tr_GD_log.append(loss_tr)\n",
    "    loss_te_GD_log.append(loss_te)\n",
    "    w_GD_log_LIST.append(w_GD_log)\n",
    "    print(f\"Epoch {i} : Training loss: {loss_tr} Test loss: {loss_te}\")"
   ]
  },
  {
   "cell_type": "markdown",
   "id": "261c9446",
   "metadata": {},
   "source": [
    "#### Plotting the resulting losses"
   ]
  },
  {
   "cell_type": "code",
   "execution_count": 10,
   "id": "4c5adc13",
   "metadata": {},
   "outputs": [
    {
     "data": {
      "text/plain": [
       "[<matplotlib.lines.Line2D at 0x258438e7130>]"
      ]
     },
     "execution_count": 10,
     "metadata": {},
     "output_type": "execute_result"
    },
    {
     "data": {
      "image/png": "[encoded data removed]",
      "text/plain": [
       "<Figure size 640x480 with 1 Axes>"
      ]
     },
     "metadata": {},
     "output_type": "display_data"
    }
   ],
   "source": [
    "plt.plot(range(len(loss_tr_GD_log)), loss_tr_GD_log, c='red')\n",
    "plt.plot(range(len(loss_te_GD_log)), loss_te_GD_log, c='blue')"
   ]
  },
  {
   "cell_type": "markdown",
   "id": "035f5f37",
   "metadata": {},
   "source": [
    "#### Calculating the accuracy on the test set (with predictions = -1 or 1)"
   ]
  },
  {
   "cell_type": "code",
   "execution_count": 11,
   "id": "78dedde4",
   "metadata": {},
   "outputs": [
    {
     "name": "stdout",
     "output_type": "stream",
     "text": [
      "best threshold= 0.48848848848848847 \n",
      "best accruacy= 0.8062199999999999\n"
     ]
    },
    {
     "data": {
      "image/png": "[encoded data removed]",
      "text/plain": [
       "<Figure size 640x480 with 1 Axes>"
      ]
     },
     "metadata": {},
     "output_type": "display_data"
    }
   ],
   "source": [
    "w_GD_log = w_GD_log_LIST[np.argmin(loss_te_GD_log)] # Best W\n",
    "\n",
    "best_threshold_log_reg, best_accruacy = threshold_selection_and_plot_log(tx_te, y_te, w_GD_log)\n",
    "print(\"best threshold=\", best_threshold_log_reg,\"\\nbest accruacy=\",best_accruacy)"
   ]
  },
  {
   "cell_type": "code",
   "execution_count": null,
   "id": "2e22dd16",
   "metadata": {},
   "outputs": [],
   "source": [
    "x_test_log = replace_min_999_by_col_mean(x_test) # Handle invalid values\n",
    "\n",
    "x_test_log = build_poly_2(x_test_log)\n",
    "\n",
    "x_test_log, mean_x_test_log, std_x_test_log = standardize(x_test_log) # Standardize x\n",
    "\n",
    "tx_test_log = add_x_bias(x_test_log)\n",
    "\n",
    "y_hat = build_prediction_log(tx_test_log, w_GD_log, threshold=best_threshold_log_reg, minus_one = True)\n",
    "write_to_csv(np.column_stack((y_indexes, y_hat)), \"test_output.csv\") # Accuracy 0.804 F1 0.697"
   ]
  },
  {
   "cell_type": "markdown",
   "id": "038db552",
   "metadata": {},
   "source": [
    "### Regularized logistic regression using gradient descent or SGD (y ∈ {0, 1}, with regularization term λ∥w∥**2)"
   ]
  },
  {
   "cell_type": "code",
   "execution_count": null,
   "id": "b77d3e58",
   "metadata": {},
   "outputs": [
    {
     "name": "stdout",
     "output_type": "stream",
     "text": [
      "Epoch 0 : Training loss: 0.46774588461884786 Test loss: 0.4653355484143271\n",
      "Epoch 1 : Training loss: 0.45645294313829504 Test loss: 0.4553383611240833\n",
      "Epoch 2 : Training loss: 0.4505756449462602 Test loss: 0.4503183053484146\n",
      "Epoch 3 : Training loss: 0.4468064264506602 Test loss: 0.44717271273906783\n",
      "Epoch 4 : Training loss: 0.4441481104949801 Test loss: 0.4450300604364536\n",
      "Epoch 5 : Training loss: 0.44216370358745627 Test loss: 0.4435013494814108\n",
      "Epoch 6 : Training loss: 0.44062166269549885 Test loss: 0.4423824778564743\n",
      "Epoch 7 : Training loss: 0.43938613344313887 Test loss: 0.44155388465619533\n",
      "Epoch 8 : Training loss: 0.4383723044755029 Test loss: 0.44093902786732436\n",
      "Epoch 9 : Training loss: 0.43752453717784445 Test loss: 0.4404860498429151\n",
      "Epoch 10 : Training loss: 0.43680472990047176 Test loss: 0.44015834070874227\n",
      "Epoch 11 : Training loss: 0.4361858208435494 Test loss: 0.43992916723274594\n",
      "Epoch 12 : Training loss: 0.4356479949847846 Test loss: 0.4397784807032624\n",
      "Epoch 13 : Training loss: 0.43517637034849604 Test loss: 0.43969093869309\n",
      "Epoch 14 : Training loss: 0.43475952874427687 Test loss: 0.43965460687995017\n",
      "Epoch 15 : Training loss: 0.4343885495824814 Test loss: 0.43966006882659137\n",
      "Epoch 16 : Training loss: 0.43405635502571566 Test loss: 0.4396998028036168\n",
      "Epoch 17 : Training loss: 0.4337572540976864 Test loss: 0.43976773920640716\n",
      "Epoch 18 : Training loss: 0.43348661755449286 Test loss: 0.43985893911420126\n",
      "Epoch 19 : Training loss: 0.43324064098622506 Test loss: 0.4399693539329325\n",
      "Epoch 20 : Training loss: 0.43301616895638895 Test loss: 0.44009564098675136\n",
      "Epoch 21 : Training loss: 0.4328105623514063 Test loss: 0.4402350199068162\n",
      "Epoch 22 : Training loss: 0.4326215969514723 Test loss: 0.4403851602730868\n",
      "Epoch 23 : Training loss: 0.43244738496053436 Test loss: 0.44054409378271997\n",
      "Epoch 24 : Training loss: 0.43228631367024095 Test loss: 0.44071014574338896\n",
      "Epoch 25 : Training loss: 0.4321369970667199 Test loss: 0.4408818817494117\n"
     ]
    }
   ],
   "source": [
    "# We run GD step times per epoch, for epochs epochs (same as running GD for epochs*step just lets us print intermediate results)\n",
    "lambda_reg = 1e-4\n",
    "w_GD_reg_log, epochs, step, gamma = np.zeros(105), 30, 150, 0.5\n",
    "loss_tr_GD_reg_log = []\n",
    "loss_te_GD_reg_log = []\n",
    "w_GD_reg_log_LIST = []\n",
    "for i in range((int)(epochs)):\n",
    "    w_GD_reg_log, loss_tr = reg_logistic_regression(y_tr, tx_tr, lambda_reg, w_GD_reg_log, step, gamma)\n",
    "    loss_te = compute_log_loss(y_te, tx_te, w_GD_reg_log)\n",
    "    loss_tr_GD_reg_log.append(loss_tr)\n",
    "    loss_te_GD_reg_log.append(loss_te)\n",
    "    w_GD_reg_log_LIST.append(w_GD_reg_log)\n",
    "    print(f\"Epoch {i} : Training loss: {loss_tr} Test loss: {loss_te}\")"
   ]
  },
  {
   "cell_type": "markdown",
   "id": "f1eca606",
   "metadata": {},
   "source": [
    "#### Calculating the accuracy on the test set (with predictions = 0 or 1)"
   ]
  },
  {
   "cell_type": "code",
   "execution_count": null,
   "id": "2c83d0b1",
   "metadata": {},
   "outputs": [],
   "source": [
    "plt.plot(range(len(loss_tr_GD_reg_log)), loss_tr_GD_reg_log, c='red')\n",
    "plt.plot(range(len(loss_te_GD_reg_log)), loss_te_GD_reg_log, c='blue')"
   ]
  },
  {
   "cell_type": "code",
   "execution_count": null,
   "id": "f3dce020",
   "metadata": {},
   "outputs": [],
   "source": [
    "w_GD_reg_log = w_GD_reg_log_LIST[np.argmin(loss_te_GD_reg_log)] # Best W\n",
    "\n",
    "best_threshold, best_accruacy = threshold_selection_and_plot_log(tx_te, y_te, w_GD_reg_log)\n",
    "print(\"best threshold=\", best_threshold,\"\\nbest accruacy=\",best_accruacy)"
   ]
  },
  {
   "cell_type": "code",
   "execution_count": null,
   "id": "d5b33c6e",
   "metadata": {},
   "outputs": [],
   "source": [
    "x_test_reg_log = replace_min_999_by_col_mean(x_test) # Handle invalid values\n",
    "\n",
    "x_test_reg_log = build_poly_2(x_test_reg_log)\n",
    "\n",
    "x_test_reg_log, mean_x_test_reg_log, std_x_test_reg_log = standardize(x_test_reg_log) # Standardize x\n",
    "\n",
    "tx_test_reg_log = add_x_bias(x_test_reg_log)\n",
    "\n",
    "y_hat = build_prediction_log(tx_test_reg_log, w_GD_reg_log, threshold=best_threshold, minus_one = True)\n",
    "write_to_csv(np.column_stack((y_indexes, y_hat)), \"test_output.csv\") # Accuracy 0.804 F1 0.701"
   ]
  }
 ],
 "metadata": {
  "kernelspec": {
   "display_name": "Python 3 (ipykernel)",
   "language": "python",
   "name": "python3"
  },
  "language_info": {
   "codemirror_mode": {
    "name": "ipython",
    "version": 3
   },
   "file_extension": ".py",
   "mimetype": "text/x-python",
   "name": "python",
   "nbconvert_exporter": "python",
   "pygments_lexer": "ipython3",
   "version": "3.9.12"
  }
 },
 "nbformat": 4,
 "nbformat_minor": 5
}
