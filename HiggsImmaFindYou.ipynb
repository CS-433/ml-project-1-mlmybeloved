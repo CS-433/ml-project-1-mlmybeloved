{
 "cells": [
  {
   "cell_type": "markdown",
   "id": "0ce48c91",
   "metadata": {},
   "source": [
    "## Imports"
   ]
  },
  {
   "cell_type": "code",
   "execution_count": 31,
   "id": "e36b7a6e",
   "metadata": {},
   "outputs": [
    {
     "name": "stdout",
     "output_type": "stream",
     "text": [
      "The autoreload extension is already loaded. To reload it, use:\n",
      "  %reload_ext autoreload\n"
     ]
    }
   ],
   "source": [
    "%matplotlib inline\n",
    "import numpy as np\n",
    "import matplotlib.pyplot as plt\n",
    "from implementations import *\n",
    "%load_ext autoreload\n",
    "%autoreload 2"
   ]
  },
  {
   "cell_type": "markdown",
   "id": "cacf590b",
   "metadata": {},
   "source": [
    "## Checking the first sample"
   ]
  },
  {
   "cell_type": "code",
   "execution_count": 2,
   "id": "6b2c623a",
   "metadata": {
    "scrolled": true
   },
   "outputs": [
    {
     "name": "stdout",
     "output_type": "stream",
     "text": [
      "First sample: [ 1.38470e+02  5.16550e+01  9.78270e+01  2.79800e+01  9.10000e-01\n",
      "  1.24711e+02  2.66600e+00  3.06400e+00  4.19280e+01  1.97760e+02\n",
      "  1.58200e+00  1.39600e+00  2.00000e-01  3.26380e+01  1.01700e+00\n",
      "  3.81000e-01  5.16260e+01  2.27300e+00 -2.41400e+00  1.68240e+01\n",
      " -2.77000e-01  2.58733e+02  2.00000e+00  6.74350e+01  2.15000e+00\n",
      "  4.44000e-01  4.60620e+01  1.24000e+00 -2.47500e+00  1.13497e+02]\n",
      "First sample label: 1\n"
     ]
    }
   ],
   "source": [
    "# Long running\n",
    "y, x = load_data(train=True)\n",
    "print(f\"First sample: {x[0,:]}\")\n",
    "print(f\"First sample label: {y[0]}\")"
   ]
  },
  {
   "cell_type": "markdown",
   "id": "56c8ab06",
   "metadata": {},
   "source": [
    "## Tests"
   ]
  },
  {
   "cell_type": "code",
   "execution_count": 3,
   "id": "f2974608",
   "metadata": {},
   "outputs": [
    {
     "name": "stdout",
     "output_type": "stream",
     "text": [
      "X:\n",
      " [[1]\n",
      " [2]\n",
      " [3]\n",
      " [4]\n",
      " [5]]\n",
      "\n",
      "X normalized:\n",
      " [[-1.41421356]\n",
      " [-0.70710678]\n",
      " [ 0.        ]\n",
      " [ 0.70710678]\n",
      " [ 1.41421356]]\n",
      "\n",
      "X with bias:\n",
      " [[ 1.         -1.41421356]\n",
      " [ 1.         -0.70710678]\n",
      " [ 1.          0.        ]\n",
      " [ 1.          0.70710678]\n",
      " [ 1.          1.41421356]]\n"
     ]
    }
   ],
   "source": [
    "# Define some test data\n",
    "testing_y = np.array([1,1,2,2,4])\n",
    "testing_x = np.array([[1],[2],[3],[4],[5]])\n",
    "testing_w = np.array([-0.1, 0.7])\n",
    "\n",
    "print(f\"X:\\n {testing_x}\\n\")\n",
    "testing_sx, testing_mean_x, testing_std_x = standardize(testing_x) # Standardization\n",
    "print(f\"X normalized:\\n {testing_sx}\\n\") \n",
    "testing_tx = add_x_bias(testing_sx) # Adding bias column to X\n",
    "print(f\"X with bias:\\n {testing_tx}\")\n"
   ]
  },
  {
   "cell_type": "markdown",
   "id": "ba53571c",
   "metadata": {},
   "source": [
    "### MSE"
   ]
  },
  {
   "cell_type": "code",
   "execution_count": 4,
   "id": "db60e35e",
   "metadata": {},
   "outputs": [
    {
     "name": "stdout",
     "output_type": "stream",
     "text": [
      "MSE TEST\n",
      "Got:58.925883860929595\n",
      "Expected:4.71\n"
     ]
    }
   ],
   "source": [
    "print(\"MSE TEST\")\n",
    "print(f\"Got:{compute_mse(testing_y, testing_tx, testing_w)}\")\n",
    "print(\"Expected:\" + str(4.71))"
   ]
  },
  {
   "cell_type": "markdown",
   "id": "d6857fad",
   "metadata": {},
   "source": [
    "### MAE"
   ]
  },
  {
   "cell_type": "code",
   "execution_count": 5,
   "id": "7bb8337a",
   "metadata": {},
   "outputs": [
    {
     "name": "stdout",
     "output_type": "stream",
     "text": [
      "MAE TEST\n",
      "Got:2.1\n",
      "Expected:2.1\n"
     ]
    }
   ],
   "source": [
    "print(\"MAE TEST\")\n",
    "print(f\"Got:{compute_mae(testing_y, testing_tx, testing_w)}\")\n",
    "print(\"Expected:\" + str(2.1))"
   ]
  },
  {
   "cell_type": "markdown",
   "id": "4b5d79bf",
   "metadata": {},
   "source": [
    "### MSE Gradient"
   ]
  },
  {
   "cell_type": "code",
   "execution_count": 6,
   "id": "1e397eee",
   "metadata": {},
   "outputs": [
    {
     "name": "stdout",
     "output_type": "stream",
     "text": [
      "MSE Gradient TEST\n",
      "Got:[-2.1        -0.28994949]\n",
      "Expected:[-2.1, -0.29]\n"
     ]
    }
   ],
   "source": [
    "print(\"MSE Gradient TEST\")\n",
    "print(f\"Got:{compute_mse_gradient(testing_y, testing_tx, testing_w)}\")\n",
    "print(\"Expected:\" + str([-2.1, -0.29]))"
   ]
  },
  {
   "cell_type": "markdown",
   "id": "c3da1cbe",
   "metadata": {},
   "source": [
    "### MAE Gradient"
   ]
  },
  {
   "cell_type": "code",
   "execution_count": 7,
   "id": "1b45a485",
   "metadata": {},
   "outputs": [
    {
     "name": "stdout",
     "output_type": "stream",
     "text": [
      "MAE Gradient TEST\n",
      "Got:[-1.  0.]\n",
      "Expected:[-1, 0]\n"
     ]
    }
   ],
   "source": [
    "print(\"MAE Gradient TEST\")\n",
    "print(f\"Got:{compute_mae_gradient(testing_y, testing_tx, testing_w)}\")\n",
    "print(\"Expected:\" + str([-1, -0]))"
   ]
  },
  {
   "cell_type": "markdown",
   "id": "fbd8eeb2",
   "metadata": {},
   "source": [
    "## Assignment"
   ]
  },
  {
   "cell_type": "markdown",
   "id": "58af40ee",
   "metadata": {},
   "source": [
    "### Pre-processing"
   ]
  },
  {
   "cell_type": "code",
   "execution_count": 13,
   "id": "37127a98",
   "metadata": {},
   "outputs": [],
   "source": [
    "# In a single cell because it takes a long time and doesn't need to be ran everytime\n",
    "y, x = load_data(train=True) # Load data\n",
    "y_indexes, x_test = load_data(train=False)"
   ]
  },
  {
   "cell_type": "code",
   "execution_count": 75,
   "id": "b9e2f596",
   "metadata": {},
   "outputs": [],
   "source": [
    "x_tr, x_te, y_tr, y_te = split_data(x, y, 0.8, np.random.seed())\n",
    "x_tr = replace_min_999_by_col_mean(x_tr) # Handle invalid values\n",
    "x_te = replace_min_999_by_col_mean(x_te)\n",
    "\n",
    "x_tr, mean_x_tr, std_x_tr = standardize(x_tr) # Standardize x\n",
    "x_te, mean_x_te, std_x_te = standardize(x_te)\n",
    "\n",
    "tx_tr = build_poly(x_tr, 2) # build polynomial expansion (with bias)\n",
    "tx_te = build_poly(x_te, 2)"
   ]
  },
  {
   "cell_type": "markdown",
   "id": "fd04e81f",
   "metadata": {},
   "source": [
    "### Linear regression using gradient descent"
   ]
  },
  {
   "cell_type": "code",
   "execution_count": 99,
   "id": "f3baccc1",
   "metadata": {},
   "outputs": [
    {
     "name": "stdout",
     "output_type": "stream",
     "text": [
      "Epoch 0 : Training loss: 0.943567673744894 Test loss: 0.943881784478454\n",
      "Epoch 1 : Training loss: 0.9114826520788203 Test loss: 0.9121161479828265\n",
      "Epoch 2 : Training loss: 0.888250851577642 Test loss: 0.8890734585604017\n",
      "Epoch 3 : Training loss: 0.8695817106198759 Test loss: 0.8704946782556624\n",
      "Epoch 4 : Training loss: 0.8538674799533076 Test loss: 0.8547958762033662\n",
      "Epoch 5 : Training loss: 0.840330149796924 Test loss: 0.8412193711918793\n",
      "Epoch 6 : Training loss: 0.8285055573071025 Test loss: 0.8293180518868092\n",
      "Epoch 7 : Training loss: 0.8180748970321832 Test loss: 0.8187863846647297\n",
      "Epoch 8 : Training loss: 0.8088006620957201 Test loss: 0.8093965820124553\n",
      "Epoch 9 : Training loss: 0.8004978111738148 Test loss: 0.8009704290729642\n",
      "Epoch 10 : Training loss: 0.7930184225804165 Test loss: 0.7933646623367039\n",
      "Epoch 11 : Training loss: 0.7862423210372638 Test loss: 0.7864622146858421\n",
      "Epoch 12 : Training loss: 0.7800707714602725 Test loss: 0.7801663803575768\n",
      "Epoch 13 : Training loss: 0.774421962271747 Test loss: 0.7743966370698435\n",
      "Epoch 14 : Training loss: 0.7692276379457196 Test loss: 0.7690855148161431\n",
      "Epoch 15 : Training loss: 0.7644305203216771 Test loss: 0.764176179380382\n",
      "Epoch 16 : Training loss: 0.7599822963269739 Test loss: 0.7596205307172326\n",
      "Epoch 17 : Training loss: 0.7558420254461735 Test loss: 0.7553776858635738\n",
      "Epoch 18 : Training loss: 0.7519748654560595 Test loss: 0.751412756250556\n",
      "Epoch 19 : Training loss: 0.7483510437212716 Test loss: 0.7476958544287092\n",
      "Epoch 20 : Training loss: 0.7449450205843259 Test loss: 0.7442012819306936\n",
      "Epoch 21 : Training loss: 0.7417348047244747 Test loss: 0.7409068616246821\n",
      "Epoch 22 : Training loss: 0.7387013898750228 Test loss: 0.737793386281524\n",
      "Epoch 23 : Training loss: 0.7358282892291259 Test loss: 0.7348441612581603\n",
      "Epoch 24 : Training loss: 0.7331011490200863 Test loss: 0.7320446238504235\n",
      "Epoch 25 : Training loss: 0.7305074266519266 Test loss: 0.7293820254217886\n",
      "Epoch 26 : Training loss: 0.7280361217294109 Test loss: 0.7268451651631036\n",
      "Epoch 27 : Training loss: 0.7256775506358774 Test loss: 0.7244241664859269\n",
      "Epoch 28 : Training loss: 0.7234231571031892 Test loss: 0.7221102887450075\n",
      "Epoch 29 : Training loss: 0.7212653526336723 Test loss: 0.7198957683301461\n",
      "Epoch 30 : Training loss: 0.7191973817586836 Test loss: 0.717773684243155\n",
      "Epoch 31 : Training loss: 0.7172132080186319 Test loss: 0.7157378441410617\n",
      "Epoch 32 : Training loss: 0.7153074172744014 Test loss: 0.7137826875269677\n",
      "Epoch 33 : Training loss: 0.7134751355476159 Test loss: 0.7119032033394421\n",
      "Epoch 34 : Training loss: 0.7117119590656105 Test loss: 0.7100948596565252\n",
      "Epoch 35 : Training loss: 0.7100138945784127 Test loss: 0.7083535436119799\n",
      "Epoch 36 : Training loss: 0.7083773083365666 Test loss: 0.7066755099355518\n",
      "Epoch 37 : Training loss: 0.706798882383728 Test loss: 0.7050573367884321\n",
      "Epoch 38 : Training loss: 0.7052755770371906 Test loss: 0.7034958877800451\n",
      "Epoch 39 : Training loss: 0.7038045986113735 Test loss: 0.7019882792307843\n",
      "Epoch 40 : Training loss: 0.7023833715904604 Test loss: 0.7005318518939344\n",
      "Epoch 41 : Training loss: 0.7010095145824172 Test loss: 0.6991241464740051\n",
      "Epoch 42 : Training loss: 0.6996808194917847 Test loss: 0.6977628823823533\n",
      "Epoch 43 : Training loss: 0.6983952334366581 Test loss: 0.6964459392577534\n",
      "Epoch 44 : Training loss: 0.6971508430089741 Test loss: 0.6951713408523681\n",
      "Epoch 45 : Training loss: 0.695945860539078 Test loss: 0.6939372409447041\n",
      "Epoch 46 : Training loss: 0.6947786120774941 Test loss: 0.6927419109925587\n",
      "Epoch 47 : Training loss: 0.6936475268505274 Test loss: 0.6915837292822485\n",
      "Epoch 48 : Training loss: 0.6925511279831184 Test loss: 0.6904611713669315\n",
      "Epoch 49 : Training loss: 0.6914880243133914 Test loss: 0.6893728016176169\n",
      "Epoch 50 : Training loss: 0.6904569031495076 Test loss: 0.6883172657365116\n",
      "Epoch 51 : Training loss: 0.6894565238415457 Test loss: 0.687293284104354\n",
      "Epoch 52 : Training loss: 0.688485712059822 Test loss: 0.6862996458520303\n",
      "Epoch 53 : Training loss: 0.6875433546868815 Test loss: 0.6853352035625745\n",
      "Epoch 54 : Training loss: 0.6866283952437882 Test loss: 0.6843988685230512\n",
      "Epoch 55 : Training loss: 0.6857398297827164 Test loss: 0.6834896064572104\n",
      "Epoch 56 : Training loss: 0.6848767031874771 Test loss: 0.6826064336794881\n",
      "Epoch 57 : Training loss: 0.6840381058318176 Test loss: 0.6817484136191584\n",
      "Epoch 58 : Training loss: 0.6832231705523072 Test loss: 0.6809146536704727\n",
      "Epoch 59 : Training loss: 0.6824310698985419 Test loss: 0.6801043023306079\n",
      "Epoch 60 : Training loss: 0.6816610136284847 Test loss: 0.679316546592367\n",
      "Epoch 61 : Training loss: 0.6809122464210579 Test loss: 0.6785506095629447\n",
      "Epoch 62 : Training loss: 0.6801840457818081 Test loss: 0.6778057482838266\n",
      "Epoch 63 : Training loss: 0.6794757201206166 Test loss: 0.6770812517301013\n",
      "Epoch 64 : Training loss: 0.6787866069831405 Test loss: 0.6763764389702189\n",
      "Epoch 65 : Training loss: 0.6781160714199864 Test loss: 0.675690657469616\n",
      "Epoch 66 : Training loss: 0.6774635044796239 Test loss: 0.6750232815236552\n",
      "Epoch 67 : Training loss: 0.6768283218127539 Test loss: 0.6743737108071061\n",
      "Epoch 68 : Training loss: 0.6762099623773418 Test loss: 0.6737413690289068\n",
      "Epoch 69 : Training loss: 0.6756078872347873 Test loss: 0.6731257026822733\n",
      "Epoch 70 : Training loss: 0.6750215784288341 Test loss: 0.6725261798813593\n",
      "Epoch 71 : Training loss: 0.6744505379397601 Test loss: 0.6719422892766728\n",
      "Epoch 72 : Training loss: 0.6738942867072301 Test loss: 0.6713735390423085\n",
      "Epoch 73 : Training loss: 0.6733523637159328 Test loss: 0.6708194559288226\n",
      "Epoch 74 : Training loss: 0.6728243251387287 Test loss: 0.6702795843762264\n",
      "Epoch 75 : Training loss: 0.6723097435326124 Test loss: 0.6697534856821519\n",
      "Epoch 76 : Training loss: 0.6718082070832694 Test loss: 0.669240737220759\n",
      "Epoch 77 : Training loss: 0.6713193188944259 Test loss: 0.6687409317083869\n",
      "Epoch 78 : Training loss: 0.6708426963185755 Test loss: 0.6682536765123506\n",
      "Epoch 79 : Training loss: 0.6703779703259868 Test loss: 0.667778592999634\n",
      "Epoch 80 : Training loss: 0.6699247849091936 Test loss: 0.6673153159225267\n",
      "Epoch 81 : Training loss: 0.6694827965204254 Test loss: 0.666863492838535\n",
      "Epoch 82 : Training loss: 0.669051673539665 Test loss: 0.6664227835621348\n",
      "Epoch 83 : Training loss: 0.6686310957712189 Test loss: 0.6659928596461459\n",
      "Epoch 84 : Training loss: 0.6682207539668882 Test loss: 0.6655734038907068\n",
      "Epoch 85 : Training loss: 0.6678203493739558 Test loss: 0.665164109877998\n",
      "Epoch 86 : Training loss: 0.6674295933063918 Test loss: 0.6647646815310128\n",
      "Epoch 87 : Training loss: 0.6670482067377741 Test loss: 0.6643748326948207\n",
      "Epoch 88 : Training loss: 0.6666759199145676 Test loss: 0.6639942867388876\n",
      "Epoch 89 : Training loss: 0.6663124719884926 Test loss: 0.6636227761791336\n",
      "Epoch 90 : Training loss: 0.6659576106668205 Test loss: 0.6632600423185054\n",
      "Epoch 91 : Training loss: 0.665611091879517 Test loss: 0.6629058349049458\n",
      "Epoch 92 : Training loss: 0.6652726794622358 Test loss: 0.6625599118057073\n",
      "Epoch 93 : Training loss: 0.6649421448542335 Test loss: 0.6622220386970522\n",
      "Epoch 94 : Training loss: 0.6646192668103496 Test loss: 0.6618919887684415\n",
      "Epoch 95 : Training loss: 0.6643038311262454 Test loss: 0.6615695424403751\n",
      "Epoch 96 : Training loss: 0.6639956303761647 Test loss: 0.661254487095118\n",
      "Epoch 97 : Training loss: 0.6636944636625126 Test loss: 0.6609466168195819\n",
      "Epoch 98 : Training loss: 0.6634001363766114 Test loss: 0.6606457321596968\n",
      "Epoch 99 : Training loss: 0.6631124599700241 Test loss: 0.6603516398856432\n"
     ]
    }
   ],
   "source": [
    "# We run GD step times per epoch, for epochs epochs (same as running GD for epochs*step just lets us print intermediate results)\n",
    "w_GD, epochs, step, gamma = np.zeros(61), 100, 100, 1e-4\n",
    "loss_tr_GD = []\n",
    "loss_te_GD = []\n",
    "for i in range((int)(epochs)):\n",
    "    w_GD, loss_tr = least_squares_GD(y_tr, tx_tr, w_GD, step, gamma)\n",
    "    loss_te = compute_mse(y_te, tx_te, w_GD)\n",
    "    loss_tr_GD.append(loss_tr)\n",
    "    loss_te_GD.append(loss_te)\n",
    "    print(f\"Epoch {i} : Training loss: {loss_tr} Test loss: {loss_te}\")"
   ]
  },
  {
   "cell_type": "markdown",
   "id": "26a94377",
   "metadata": {},
   "source": [
    "#### Plotting the resulting losses"
   ]
  },
  {
   "cell_type": "code",
   "execution_count": 100,
   "id": "10adec5c",
   "metadata": {},
   "outputs": [
    {
     "data": {
      "text/plain": [
       "[<matplotlib.lines.Line2D at 0x1a78acc3280>]"
      ]
     },
     "execution_count": 100,
     "metadata": {},
     "output_type": "execute_result"
    },
    {
     "data": {
      "image/png": "[encoded data removed]",
      "text/plain": [
       "<Figure size 640x480 with 1 Axes>"
      ]
     },
     "metadata": {},
     "output_type": "display_data"
    }
   ],
   "source": [
    "plt.plot(range(len(loss_tr_GD)), loss_tr_GD, c='red')\n",
    "plt.plot(range(len(loss_te_GD)), loss_te_GD, c='blue')"
   ]
  },
  {
   "cell_type": "markdown",
   "id": "1549d116",
   "metadata": {},
   "source": [
    "#### Calculating the accuracy on the test set (with predictions = -1 or 1)"
   ]
  },
  {
   "cell_type": "code",
   "execution_count": 101,
   "id": "cd7ed80e",
   "metadata": {},
   "outputs": [
    {
     "name": "stdout",
     "output_type": "stream",
     "text": [
      "Accuracy for these w: 75.77199999999999%\n"
     ]
    }
   ],
   "source": [
    "accuracy = compute_accuracy(tx_te, y_te, w_GD, 0)\n",
    "print(f\"Accuracy for these w: {accuracy*100}%\")"
   ]
  },
  {
   "cell_type": "code",
   "execution_count": 102,
   "id": "70bc433e",
   "metadata": {},
   "outputs": [],
   "source": [
    "x_test = replace_min_999_by_col_mean(x_test) # Handle invalid values\n",
    "\n",
    "x_test, mean_x_test, std_x_test = standardize(x_test) # Standardize x\n",
    "\n",
    "tx_test = build_poly(x_test, 2) # build polynomial expansion (with bias)\n",
    "\n",
    "y_hat = build_prediction(tx_test, w_GD, 0.4)\n",
    "write_to_csv(np.column_stack((y_indexes, y_hat)), \"test_output.csv\")"
   ]
  },
  {
   "cell_type": "markdown",
   "id": "b1b9588c",
   "metadata": {},
   "source": [
    "### Linear regression using stochastic gradient descent"
   ]
  },
  {
   "cell_type": "code",
   "execution_count": 71,
   "id": "40630c7f",
   "metadata": {},
   "outputs": [
    {
     "name": "stdout",
     "output_type": "stream",
     "text": [
      "Epoch 0 : Training loss: 0.32004029743145934 Test loss: 0.3188516426038994\n",
      "Epoch 1 : Training loss: 0.3158255116133148 Test loss: 0.3145061929637362\n",
      "Epoch 2 : Training loss: 0.3134461420413964 Test loss: 0.31201124451384593\n",
      "Epoch 3 : Training loss: 0.31291591204369024 Test loss: 0.3114902770714836\n",
      "Epoch 4 : Training loss: 0.30965924557360053 Test loss: 0.3078879255745183\n",
      "Epoch 5 : Training loss: 0.30906381369523034 Test loss: 0.30713081705529705\n",
      "Epoch 6 : Training loss: 0.30657664431750986 Test loss: 0.30443525155682827\n",
      "Epoch 7 : Training loss: 0.3059970601881488 Test loss: 0.30358291356420225\n",
      "Epoch 8 : Training loss: 0.30448641567911006 Test loss: 0.30188436070658636\n",
      "Epoch 9 : Training loss: 0.3037338490311694 Test loss: 0.30076862812113064\n",
      "Epoch 10 : Training loss: 0.3041445790838162 Test loss: 0.2996327489269914\n",
      "Epoch 11 : Training loss: 0.3041545203041761 Test loss: 0.2995724920371117\n",
      "Epoch 12 : Training loss: 0.304020388509992 Test loss: 0.2980766911529202\n",
      "Epoch 13 : Training loss: 0.3038636226696449 Test loss: 0.2976561902020877\n",
      "Epoch 14 : Training loss: 0.30335175532521563 Test loss: 0.2966094315507379\n",
      "Epoch 15 : Training loss: 0.30290593960431433 Test loss: 0.29595598869913425\n",
      "Epoch 16 : Training loss: 0.30196844609161744 Test loss: 0.29430020834654613\n",
      "Epoch 17 : Training loss: 0.30201541653384595 Test loss: 0.2939697751641475\n",
      "Epoch 18 : Training loss: 0.30277875861518727 Test loss: 0.2931698557268472\n",
      "Epoch 19 : Training loss: 0.302689370274598 Test loss: 0.2932794425613461\n",
      "Epoch 20 : Training loss: 0.30214612429325033 Test loss: 0.2926742123657149\n",
      "Epoch 21 : Training loss: 0.30144443629756895 Test loss: 0.29214586599797204\n",
      "Epoch 22 : Training loss: 0.3014128955917616 Test loss: 0.2915708716984526\n",
      "Epoch 23 : Training loss: 0.301864400773578 Test loss: 0.2918248796754811\n",
      "Epoch 24 : Training loss: 0.3015903921551609 Test loss: 0.29161120836168947\n",
      "Epoch 25 : Training loss: 0.3014857247276524 Test loss: 0.29105256812837216\n",
      "Epoch 26 : Training loss: 0.3008608126908517 Test loss: 0.29024934445843387\n",
      "Epoch 27 : Training loss: 0.3006606759310654 Test loss: 0.2901085777425496\n",
      "Epoch 28 : Training loss: 0.30090988689245973 Test loss: 0.28981897965715103\n",
      "Epoch 29 : Training loss: 0.3002310372580565 Test loss: 0.28866894547118005\n",
      "Epoch 30 : Training loss: 0.3002213835047431 Test loss: 0.2885655532847589\n",
      "Epoch 31 : Training loss: 0.2998301236027259 Test loss: 0.28835505967494995\n",
      "Epoch 32 : Training loss: 0.2997638681524595 Test loss: 0.2879497654703801\n",
      "Epoch 33 : Training loss: 0.299565526594732 Test loss: 0.28744566865656374\n",
      "Epoch 34 : Training loss: 0.2993985712368138 Test loss: 0.2870377560492909\n",
      "Epoch 35 : Training loss: 0.29956735280520597 Test loss: 0.28689904493954116\n",
      "Epoch 36 : Training loss: 0.29920446045113824 Test loss: 0.28594700916052346\n",
      "Epoch 37 : Training loss: 0.2988664095864221 Test loss: 0.2858196966406809\n",
      "Epoch 38 : Training loss: 0.29875729281582025 Test loss: 0.2856507888208005\n",
      "Epoch 39 : Training loss: 0.299320899708038 Test loss: 0.28532277710307924\n",
      "Epoch 40 : Training loss: 0.2989296205453568 Test loss: 0.2848849117085741\n",
      "Epoch 41 : Training loss: 0.29889549069811616 Test loss: 0.2847877263832857\n",
      "Epoch 42 : Training loss: 0.2987039003586636 Test loss: 0.2844713641686956\n",
      "Epoch 43 : Training loss: 0.2989149695718342 Test loss: 0.2843882686027017\n",
      "Epoch 44 : Training loss: 0.29896154161733474 Test loss: 0.28440585581033007\n",
      "Epoch 45 : Training loss: 0.29862191124637116 Test loss: 0.2841457172400418\n",
      "Epoch 46 : Training loss: 0.2983814447558572 Test loss: 0.2839694737712068\n",
      "Epoch 47 : Training loss: 0.2986043317578449 Test loss: 0.2836528874506803\n",
      "Epoch 48 : Training loss: 0.2983905294174915 Test loss: 0.2832590788451668\n",
      "Epoch 49 : Training loss: 0.2982770344112347 Test loss: 0.28313393673496917\n",
      "Epoch 50 : Training loss: 0.298573961148349 Test loss: 0.28278311805641104\n",
      "Epoch 51 : Training loss: 0.29844027019303704 Test loss: 0.28248647659897147\n",
      "Epoch 52 : Training loss: 0.30003900685760926 Test loss: 0.2823703529632949\n",
      "Epoch 53 : Training loss: 0.29976694070613324 Test loss: 0.28194153806456773\n",
      "Epoch 54 : Training loss: 0.2995848925067422 Test loss: 0.2814769729862285\n",
      "Epoch 55 : Training loss: 0.29940747754027314 Test loss: 0.281501785358093\n",
      "Epoch 56 : Training loss: 0.299383071038631 Test loss: 0.2811646551874382\n",
      "Epoch 57 : Training loss: 0.2986644726961298 Test loss: 0.2806515871948267\n",
      "Epoch 58 : Training loss: 0.2989613003510435 Test loss: 0.28048059840742084\n",
      "Epoch 59 : Training loss: 0.300050710060788 Test loss: 0.28013236866782065\n",
      "Epoch 60 : Training loss: 0.30006136495587765 Test loss: 0.2800179058735379\n",
      "Epoch 61 : Training loss: 0.3005422215720783 Test loss: 0.27994589772528594\n",
      "Epoch 62 : Training loss: 0.30091394301485624 Test loss: 0.27961884311894836\n",
      "Epoch 63 : Training loss: 0.301234867669116 Test loss: 0.27937587264506153\n",
      "Epoch 64 : Training loss: 0.30255114239045383 Test loss: 0.27945305889593197\n",
      "Epoch 65 : Training loss: 0.30251795373172297 Test loss: 0.2792489944086607\n",
      "Epoch 66 : Training loss: 0.3028586882851324 Test loss: 0.27898151846618213\n",
      "Epoch 67 : Training loss: 0.3027981241144238 Test loss: 0.27901208628610225\n",
      "Epoch 68 : Training loss: 0.3022023341845329 Test loss: 0.2790050397165964\n",
      "Epoch 69 : Training loss: 0.3017855742400377 Test loss: 0.278691436116863\n",
      "Epoch 70 : Training loss: 0.30061454581356767 Test loss: 0.2785810466057766\n",
      "Epoch 71 : Training loss: 0.3001789917714573 Test loss: 0.27841141467959285\n",
      "Epoch 72 : Training loss: 0.3008753668276811 Test loss: 0.2781539811404392\n",
      "Epoch 73 : Training loss: 0.30090167723069644 Test loss: 0.27797903587826833\n",
      "Epoch 74 : Training loss: 0.30341234618378565 Test loss: 0.2778265685687267\n",
      "Epoch 75 : Training loss: 0.3031245361396047 Test loss: 0.27766208836702455\n",
      "Epoch 76 : Training loss: 0.30621575636855136 Test loss: 0.28603373689244505\n",
      "Epoch 77 : Training loss: 0.30644044438366175 Test loss: 0.28544884780324237\n",
      "Epoch 78 : Training loss: 0.30648089439145865 Test loss: 0.285250988861099\n",
      "Epoch 79 : Training loss: 0.3064322261597761 Test loss: 0.28524550881107585\n",
      "Epoch 80 : Training loss: 0.3059190693398877 Test loss: 0.2843993862324588\n",
      "Epoch 81 : Training loss: 0.30634556943143265 Test loss: 0.28401466214074234\n",
      "Epoch 82 : Training loss: 0.30591989322481 Test loss: 0.2839916824907125\n",
      "Epoch 83 : Training loss: 0.3057603801018631 Test loss: 0.28371475701289056\n",
      "Epoch 84 : Training loss: 0.3057016044155347 Test loss: 0.2835315914222173\n",
      "Epoch 85 : Training loss: 0.3057562317981987 Test loss: 0.28340001070021525\n",
      "Epoch 86 : Training loss: 0.30578760726813853 Test loss: 0.2833757393462644\n",
      "Epoch 87 : Training loss: 0.30563933060047804 Test loss: 0.28302458812903075\n",
      "Epoch 88 : Training loss: 0.3056637416142436 Test loss: 0.28299336030155425\n",
      "Epoch 89 : Training loss: 0.30554973322222995 Test loss: 0.2829261056766817\n",
      "Epoch 90 : Training loss: 0.3055485160620144 Test loss: 0.28288827538695066\n",
      "Epoch 91 : Training loss: 0.3055284010058105 Test loss: 0.28282556620836075\n",
      "Epoch 92 : Training loss: 0.30628122962215415 Test loss: 0.28193916713089756\n",
      "Epoch 93 : Training loss: 0.3063610693786187 Test loss: 0.28193282244231294\n",
      "Epoch 94 : Training loss: 0.30711424991559544 Test loss: 0.28174583894520383\n",
      "Epoch 95 : Training loss: 0.3073121450090706 Test loss: 0.281350036510609\n",
      "Epoch 96 : Training loss: 0.3079516645867726 Test loss: 0.27944296371246513\n",
      "Epoch 97 : Training loss: 0.30886153529285915 Test loss: 0.279071037822809\n",
      "Epoch 98 : Training loss: 0.30882578865846166 Test loss: 0.2788838191089093\n",
      "Epoch 99 : Training loss: 0.30978929513944004 Test loss: 0.2785291103828727\n"
     ]
    }
   ],
   "source": [
    "w_SGD, epochs, step, gamma = np.zeros(61), 100, 100, 1e-4\n",
    "for i in range((int)(epochs)):\n",
    "    w_SGD, loss_tr = least_squares_SGD(y_tr, tx_tr, w_SGD, step, gamma)\n",
    "    loss_te = compute_mse(y_te, tx_te, w_SGD)\n",
    "    print(f\"Epoch {i} : Training loss: {loss_tr} Test loss: {loss_te}\")"
   ]
  },
  {
   "cell_type": "markdown",
   "id": "120442c2",
   "metadata": {},
   "source": [
    "#### Calculating the accuracy on the test set (with predictions = 0 or 1)"
   ]
  },
  {
   "cell_type": "code",
   "execution_count": 72,
   "id": "5ac680a8",
   "metadata": {},
   "outputs": [
    {
     "name": "stdout",
     "output_type": "stream",
     "text": [
      "Accuracy for these w: 67.24799999999999%\n"
     ]
    }
   ],
   "source": [
    "y_hat_cont = tx_te@w_SGD\n",
    "y_hat = [1 if yi > 0.40 else 0 for yi in y_hat_cont]\n",
    "accuracy = 1-abs(y_te-y_hat).mean()\n",
    "print(f\"Accuracy for these w: {accuracy*100}%\")"
   ]
  },
  {
   "cell_type": "markdown",
   "id": "0c498d12",
   "metadata": {},
   "source": [
    "### Least squares"
   ]
  },
  {
   "cell_type": "code",
   "execution_count": 54,
   "id": "3729fcfa",
   "metadata": {},
   "outputs": [
    {
     "name": "stdout",
     "output_type": "stream",
     "text": [
      "Training loss: 0.15775399909190493\n",
      "Test loss: 1.0311299950200723\n",
      "w: [ 3.37137664e-01  6.52970377e-02 -1.22701137e-01 -1.52811873e-01\n",
      "  7.14286545e-02 -2.48003253e-02 -1.22351877e-02 -3.23113961e-02\n",
      "  1.31578040e-01 -5.80539364e-03 -2.24032327e+02 -9.88973360e-02\n",
      "  2.14275181e-02  3.53804357e-02  4.34080174e+01  5.00657117e-04\n",
      "  3.13543582e-04  4.26889017e+01  6.03112117e-05  6.10099853e-04\n",
      "  2.18336066e-03 -3.79707632e-04 -1.38501500e-02 -1.60504481e-02\n",
      "  4.89221318e-02 -3.53733241e-04 -6.31491563e-04  1.74254852e-02\n",
      "  7.00537917e-04 -7.62619593e-04  1.89889210e+02 -9.21111198e-03\n",
      "  1.82965859e-02  7.96031102e-03  1.47479101e-03  1.00063298e-02\n",
      "  2.30455444e-04 -3.84925914e-03 -2.91992065e-02  6.31294402e-04\n",
      " -5.83427643e-03  9.56267826e-03  2.67813328e-02  1.00913256e-02\n",
      " -6.23720001e-03 -1.66025009e-02 -1.53207500e-03 -9.60052673e-03\n",
      " -2.85748956e-02 -2.94577334e-05 -2.09764595e-03 -2.02235377e-04\n",
      " -1.09688513e-02 -2.03131101e-02 -5.79415916e-03  3.83367504e-02\n",
      " -1.11026240e-04 -3.90589551e-04  2.07797134e-02 -4.22502951e-04\n",
      "  1.18963991e-02]\n"
     ]
    }
   ],
   "source": [
    "w_LS, loss_tr = least_squares(y_tr, tx_tr)\n",
    "loss_te = compute_mse(y_te, tx_te, w_LS)\n",
    "print(f\"Training loss: {loss_tr}\\nTest loss: {loss_te}\\nw: {w_LS}\")"
   ]
  },
  {
   "cell_type": "markdown",
   "id": "9557525a",
   "metadata": {},
   "source": [
    "### Ridge regression"
   ]
  },
  {
   "cell_type": "code",
   "execution_count": 43,
   "id": "741e5c42",
   "metadata": {},
   "outputs": [
    {
     "name": "stdout",
     "output_type": "stream",
     "text": [
      "Training loss: 0.17758079539317778\n",
      "\n"
     ]
    }
   ],
   "source": [
    "lambda_ = 0.1\n",
    "w_REG, loss_tr = ridge_regression(y_tr, tx_tr, lambda_)\n",
    "print(f\"Training loss: {loss}\\n\")"
   ]
  },
  {
   "cell_type": "markdown",
   "id": "d51d88db",
   "metadata": {},
   "source": [
    "### Logistic regression using gradient descent or SGD (y ∈ {0, 1})"
   ]
  },
  {
   "cell_type": "code",
   "execution_count": 76,
   "id": "77ab45cd",
   "metadata": {},
   "outputs": [
    {
     "name": "stdout",
     "output_type": "stream",
     "text": [
      "Epoch 0 : Training loss: 0.47597252741512347 Test loss: 0.47440651786086196\n",
      "Epoch 1 : Training loss: 0.460312959633462 Test loss: 0.4577719733794798\n",
      "Epoch 2 : Training loss: 0.45489716046234896 Test loss: 0.45184123154690015\n",
      "Epoch 3 : Training loss: 0.45232632286830243 Test loss: 0.44895834324489875\n",
      "Epoch 4 : Training loss: 0.45086279170370785 Test loss: 0.44729207398830356\n",
      "Epoch 5 : Training loss: 0.44991955774960374 Test loss: 0.4462134464231652\n",
      "Epoch 6 : Training loss: 0.44925248556590464 Test loss: 0.44545536876014585\n",
      "Epoch 7 : Training loss: 0.44874544925648907 Test loss: 0.44488757317783145\n",
      "Epoch 8 : Training loss: 0.44833768663232737 Test loss: 0.44444009469111073\n",
      "Epoch 9 : Training loss: 0.4479950160078562 Test loss: 0.4440725786519001\n",
      "Epoch 10 : Training loss: 0.4476970839020221 Test loss: 0.4437604263543637\n",
      "Epoch 11 : Training loss: 0.44743120973871836 Test loss: 0.443487969491362\n",
      "Epoch 12 : Training loss: 0.4471891988555761 Test loss: 0.4432448703610995\n",
      "Epoch 13 : Training loss: 0.44696559218634024 Test loss: 0.44302411333918984\n",
      "Epoch 14 : Training loss: 0.44675665628717104 Test loss: 0.4428208273022423\n",
      "Epoch 15 : Training loss: 0.4465597762957747 Test loss: 0.442631564107115\n",
      "Epoch 16 : Training loss: 0.4463730787724152 Test loss: 0.44245383980306263\n",
      "Epoch 17 : Training loss: 0.4461951910272998 Test loss: 0.4422858344162617\n",
      "Epoch 18 : Training loss: 0.44602508420133885 Test loss: 0.44212619134290737\n",
      "Epoch 19 : Training loss: 0.44586196914009024 Test loss: 0.4419738812411199\n",
      "Epoch 20 : Training loss: 0.4457052262746522 Test loss: 0.4418281085882671\n",
      "Epoch 21 : Training loss: 0.44555435779570524 Test loss: 0.44168824688376257\n",
      "Epoch 22 : Training loss: 0.44540895465323393 Test loss: 0.4415537932966081\n",
      "Epoch 23 : Training loss: 0.4452686735353909 Test loss: 0.4414243366307003\n",
      "Epoch 24 : Training loss: 0.44513322063490124 Test loss: 0.4412995344850608\n",
      "Epoch 25 : Training loss: 0.44500234007586786 Test loss: 0.4411790968118312\n",
      "Epoch 26 : Training loss: 0.44487580556886325 Test loss: 0.4410627739605872\n",
      "Epoch 27 : Training loss: 0.444753414321575 Test loss: 0.4409503478938867\n",
      "Epoch 28 : Training loss: 0.444634982539 Test loss: 0.4408416256631586\n",
      "Epoch 29 : Training loss: 0.4445203420537712 Test loss: 0.44073643450967914\n",
      "Epoch 30 : Training loss: 0.44440933776738323 Test loss: 0.4406346181444836\n",
      "Epoch 31 : Training loss: 0.4443018256788841 Test loss: 0.4405360338915807\n",
      "Epoch 32 : Training loss: 0.4441976713435001 Test loss: 0.44044055046948455\n",
      "Epoch 33 : Training loss: 0.4440967486492825 Test loss: 0.44034804624943774\n",
      "Epoch 34 : Training loss: 0.44399893883166985 Test loss: 0.4402584078732683\n",
      "Epoch 35 : Training loss: 0.443904129668173 Test loss: 0.4401715291454014\n",
      "Epoch 36 : Training loss: 0.44381221481115796 Test loss: 0.4400873101360413\n",
      "Epoch 37 : Training loss: 0.44372309322792824 Test loss: 0.44000565644869927\n",
      "Epoch 38 : Training loss: 0.44363666872534446 Test loss: 0.4399264786168961\n",
      "Epoch 39 : Training loss: 0.44355284954201163 Test loss: 0.4398496916033428\n",
      "Epoch 40 : Training loss: 0.4434715479952702 Test loss: 0.4397752143810982\n",
      "Epoch 41 : Training loss: 0.4433926801732671 Test loss: 0.4397029695807696\n",
      "Epoch 42 : Training loss: 0.44331616566461896 Test loss: 0.43963288319122074\n",
      "Epoch 43 : Training loss: 0.44324192731979123 Test loss: 0.4395648843038153\n",
      "Epoch 44 : Training loss: 0.44316989103951504 Test loss: 0.4394989048921916\n",
      "Epoch 45 : Training loss: 0.44309998558642893 Test loss: 0.43943487962109645\n",
      "Epoch 46 : Training loss: 0.4430321424167884 Test loss: 0.439372745679037\n",
      "Epoch 47 : Training loss: 0.44296629552956857 Test loss: 0.4393124426304957\n",
      "Epoch 48 : Training loss: 0.4429023813306766 Test loss: 0.4392539122842738\n",
      "Epoch 49 : Training loss: 0.44284033851028576 Test loss: 0.43919709857519573\n",
      "Epoch 50 : Training loss: 0.4427801079315674 Test loss: 0.4391419474569638\n",
      "Epoch 51 : Training loss: 0.4427216325293068 Test loss: 0.4390884068044012\n",
      "Epoch 52 : Training loss: 0.44266485721708787 Test loss: 0.4390364263236862\n",
      "Epoch 53 : Training loss: 0.4426097288019041 Test loss: 0.43898595746946745\n",
      "Epoch 54 : Training loss: 0.4425561959052034 Test loss: 0.43893695336797683\n",
      "Epoch 55 : Training loss: 0.4425042088895214 Test loss: 0.43888936874542755\n",
      "Epoch 56 : Training loss: 0.4424537197899736 Test loss: 0.4388431598611167\n",
      "Epoch 57 : Training loss: 0.4424046822499952 Test loss: 0.43879828444474933\n",
      "Epoch 58 : Training loss: 0.442357051460806 Test loss: 0.43875470163757596\n",
      "Epoch 59 : Training loss: 0.44231078410416663 Test loss: 0.4387123719369881\n",
      "Epoch 60 : Training loss: 0.44226583829805877 Test loss: 0.4386712571442633\n",
      "Epoch 61 : Training loss: 0.44222217354498383 Test loss: 0.43863132031518404\n",
      "Epoch 62 : Training loss: 0.44217975068262805 Test loss: 0.4385925257132816\n",
      "Epoch 63 : Training loss: 0.4421385318366744 Test loss: 0.43855483876548224\n",
      "Epoch 64 : Training loss: 0.4420984803755888 Test loss: 0.4385182260199555\n",
      "Epoch 65 : Training loss: 0.4420595608672255 Test loss: 0.4384826551059817\n",
      "Epoch 66 : Training loss: 0.4420217390371258 Test loss: 0.4384480946956752\n",
      "Epoch 67 : Training loss: 0.44198498172840095 Test loss: 0.43841451446741836\n",
      "Epoch 68 : Training loss: 0.44194925686310643 Test loss: 0.438381885070874\n",
      "Epoch 69 : Training loss: 0.44191453340502607 Test loss: 0.43835017809345994\n",
      "Epoch 70 : Training loss: 0.4418807813237944 Test loss: 0.4383193660281842\n",
      "Epoch 71 : Training loss: 0.4418479715602975 Test loss: 0.438289422242747\n",
      "Epoch 72 : Training loss: 0.44181607599329387 Test loss: 0.43826032094983214\n",
      "Epoch 73 : Training loss: 0.4417850674072051 Test loss: 0.4382320371785132\n",
      "Epoch 74 : Training loss: 0.44175491946103385 Test loss: 0.4382045467467158\n",
      "Epoch 75 : Training loss: 0.44172560665836175 Test loss: 0.4381778262346773\n",
      "Epoch 76 : Training loss: 0.441697104318394 Test loss: 0.4381518529593567\n",
      "Epoch 77 : Training loss: 0.4416693885480102 Test loss: 0.43812660494975036\n",
      "Epoch 78 : Training loss: 0.4416424362147889 Test loss: 0.4381020609230742\n",
      "Epoch 79 : Training loss: 0.44161622492097374 Test loss: 0.4380782002617764\n",
      "Epoch 80 : Training loss: 0.44159073297834905 Test loss: 0.438055002991349\n",
      "Epoch 81 : Training loss: 0.4415659393839976 Test loss: 0.43803244975890815\n",
      "Epoch 82 : Training loss: 0.44154182379690776 Test loss: 0.4380105218125144\n",
      "Epoch 83 : Training loss: 0.4415183665154094 Test loss: 0.43798920098120875\n",
      "Epoch 84 : Training loss: 0.44149554845540423 Test loss: 0.4379684696557386\n",
      "Epoch 85 : Training loss: 0.44147335112937025 Test loss: 0.4379483107699502\n",
      "Epoch 86 : Training loss: 0.44145175662611347 Test loss: 0.437928707782826\n",
      "Epoch 87 : Training loss: 0.44143074759124046 Test loss: 0.43790964466114435\n",
      "Epoch 88 : Training loss: 0.441410307208331 Test loss: 0.43789110586274244\n",
      "Epoch 89 : Training loss: 0.44139041918078536 Test loss: 0.43787307632036016\n",
      "Epoch 90 : Training loss: 0.4413710677143227 Test loss: 0.43785554142604605\n",
      "Epoch 91 : Training loss: 0.4413522375001111 Test loss: 0.4378384870161075\n",
      "Epoch 92 : Training loss: 0.4413339136985032 Test loss: 0.4378218993565848\n",
      "Epoch 93 : Training loss: 0.4413160819233605 Test loss: 0.4378057651292322\n",
      "Epoch 94 : Training loss: 0.4412987282269424 Test loss: 0.4377900714179881\n",
      "Epoch 95 : Training loss: 0.44128183908534085 Test loss: 0.43777480569591626\n",
      "Epoch 96 : Training loss: 0.4412654013844404 Test loss: 0.4377599558126039\n",
      "Epoch 97 : Training loss: 0.44124940240638566 Test loss: 0.43774550998199735\n",
      "Epoch 98 : Training loss: 0.44123382981653614 Test loss: 0.43773145677066216\n",
      "Epoch 99 : Training loss: 0.4412186716508894 Test loss: 0.4377177850864511\n"
     ]
    }
   ],
   "source": [
    "# We run GD step times per epoch, for epochs epochs (same as running GD for epochs*step just lets us print intermediate results)\n",
    "w_GD_log, epochs, step, gamma = np.zeros(61), 100, 50, 1e-1\n",
    "loss_tr_GD_log = []\n",
    "loss_te_GD_log = []\n",
    "for i in range((int)(epochs)):\n",
    "    w_GD_log, loss_tr = logistic_regression(y_tr, tx_tr, w_GD_log, step, gamma)\n",
    "    loss_te = compute_log_loss(y_te, tx_te, w_GD_log)\n",
    "    loss_tr_GD_log.append(loss_tr)\n",
    "    loss_te_GD_log.append(loss_te)\n",
    "    print(f\"Epoch {i} : Training loss: {loss_tr} Test loss: {loss_te}\")"
   ]
  },
  {
   "cell_type": "markdown",
   "id": "261c9446",
   "metadata": {},
   "source": [
    "#### Plotting the resulting losses"
   ]
  },
  {
   "cell_type": "code",
   "execution_count": 77,
   "id": "4c5adc13",
   "metadata": {},
   "outputs": [
    {
     "data": {
      "text/plain": [
       "[<matplotlib.lines.Line2D at 0x12c819b5dc0>]"
      ]
     },
     "execution_count": 77,
     "metadata": {},
     "output_type": "execute_result"
    },
    {
     "data": {
      "image/png": "[encoded data removed]",
      "text/plain": [
       "<Figure size 640x480 with 1 Axes>"
      ]
     },
     "metadata": {},
     "output_type": "display_data"
    }
   ],
   "source": [
    "plt.plot(range(len(loss_tr_GD_log)), loss_tr_GD_log, c='red')\n",
    "plt.plot(range(len(loss_te_GD_log)), loss_te_GD_log, c='blue')"
   ]
  },
  {
   "cell_type": "markdown",
   "id": "035f5f37",
   "metadata": {},
   "source": [
    "#### Calculating the accuracy on the test set (with predictions = -1 or 1)"
   ]
  },
  {
   "cell_type": "code",
   "execution_count": 82,
   "id": "7efad889",
   "metadata": {},
   "outputs": [
    {
     "name": "stdout",
     "output_type": "stream",
     "text": [
      "Accuracy for these w: 80.21199999999999%\n"
     ]
    }
   ],
   "source": [
    "accuracy = compute_accuracy_log(tx_te, y_te, w_GD_log, threshold=0.5)\n",
    "print(f\"Accuracy for these w: {accuracy*100}%\")"
   ]
  },
  {
   "cell_type": "code",
   "execution_count": 83,
   "id": "2e22dd16",
   "metadata": {},
   "outputs": [],
   "source": [
    "x_test = replace_min_999_by_col_mean(x_test) # Handle invalid values\n",
    "\n",
    "x_test, mean_x_test, std_x_test = standardize(x_test) # Standardize x\n",
    "\n",
    "tx_test = build_poly(x_test, 2)\n",
    "\n",
    "y_hat = build_prediction_log(tx_test, w_GD_log, threshold=0.5, minus_one = True)\n",
    "write_to_csv(np.column_stack((y_indexes, y_hat)), \"test_output.csv\")"
   ]
  },
  {
   "cell_type": "markdown",
   "id": "038db552",
   "metadata": {},
   "source": [
    "### Regularized logistic regression using gradient descent or SGD (y ∈ {0, 1}, with regularization term λ∥w∥**2)"
   ]
  },
  {
   "cell_type": "code",
   "execution_count": null,
   "id": "b77d3e58",
   "metadata": {},
   "outputs": [],
   "source": []
  }
 ],
 "metadata": {
  "kernelspec": {
   "display_name": "Python 3 (ipykernel)",
   "language": "python",
   "name": "python3"
  },
  "language_info": {
   "codemirror_mode": {
    "name": "ipython",
    "version": 3
   },
   "file_extension": ".py",
   "mimetype": "text/x-python",
   "name": "python",
   "nbconvert_exporter": "python",
   "pygments_lexer": "ipython3",
   "version": "3.8.13"
  }
 },
 "nbformat": 4,
 "nbformat_minor": 5
}
