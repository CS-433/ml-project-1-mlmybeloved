{
 "cells": [
  {
   "cell_type": "markdown",
   "id": "0ce48c91",
   "metadata": {},
   "source": [
    "## Imports"
   ]
  },
  {
   "cell_type": "code",
   "execution_count": 1,
   "id": "e36b7a6e",
   "metadata": {},
   "outputs": [],
   "source": [
    "%matplotlib inline\n",
    "import numpy as np\n",
    "import matplotlib.pyplot as plt\n",
    "from implementations import *\n",
    "%load_ext autoreload\n",
    "%autoreload 2"
   ]
  },
  {
   "cell_type": "markdown",
   "id": "fbd8eeb2",
   "metadata": {},
   "source": [
    "## Assignment"
   ]
  },
  {
   "cell_type": "markdown",
   "id": "58af40ee",
   "metadata": {},
   "source": [
    "### Pre-processing"
   ]
  },
  {
   "cell_type": "code",
   "execution_count": 2,
   "id": "37127a98",
   "metadata": {},
   "outputs": [],
   "source": [
    "# In a single cell because it takes a long time and doesn't need to be ran everytime\n",
    "y, x = load_data(train=True) # Load data\n",
    "y_indexes, x_test = load_data(train=False)"
   ]
  },
  {
   "cell_type": "code",
   "execution_count": 12,
   "id": "b9e2f596",
   "metadata": {},
   "outputs": [],
   "source": [
    "x_tr, x_te, y_tr, y_te = split_data(x, y, 0.8, np.random.seed())\n",
    "x_tr = replace_min_999_by_col_mean(x_tr) # Handle invalid values\n",
    "x_te = replace_min_999_by_col_mean(x_te)\n",
    "\n",
    "x_tr, mean_x_tr, std_x_tr = standardize(x_tr) # Standardize x\n",
    "x_te, mean_x_te, std_x_te = standardize(x_te)\n",
    "\n",
    "#tx_tr = build_poly(x_tr, 2) # build polynomial expansion (with bias) TODO CAUSES NANs AND HAS TO BE BEFORE STD\n",
    "#tx_te = build_poly(x_te, 2)"
   ]
  },
  {
   "cell_type": "markdown",
   "id": "fd04e81f",
   "metadata": {},
   "source": [
    "### Linear regression using gradient descent"
   ]
  },
  {
   "cell_type": "code",
   "execution_count": 15,
   "id": "f3baccc1",
   "metadata": {},
   "outputs": [
    {
     "name": "stdout",
     "output_type": "stream",
     "text": [
      "Epoch 0 : Training loss: 0.15207089129562132 Test loss: 0.15231460002260397\n",
      "Epoch 1 : Training loss: 0.14370885047369059 Test loss: 0.14392064258782813\n",
      "Epoch 2 : Training loss: 0.1381721659470409 Test loss: 0.13833070536027908\n",
      "Epoch 3 : Training loss: 0.13402914105611657 Test loss: 0.13414677512942272\n",
      "Epoch 4 : Training loss: 0.1307963923428317 Test loss: 0.13088276468333299\n",
      "Epoch 5 : Training loss: 0.12822361915695374 Test loss: 0.12828484733999615\n",
      "Epoch 6 : Training loss: 0.12615053388117725 Test loss: 0.12619120585669014\n",
      "Epoch 7 : Training loss: 0.12446412414701198 Test loss: 0.12448820861366373\n",
      "Epoch 8 : Training loss: 0.12308108418543773 Test loss: 0.1230921648483997\n",
      "Epoch 9 : Training loss: 0.12193856621535495 Test loss: 0.12193984865836123\n",
      "Epoch 10 : Training loss: 0.12098845782323572 Test loss: 0.12098273898824997\n",
      "Epoch 11 : Training loss: 0.12019351449071265 Test loss: 0.12018317116412355\n",
      "Epoch 12 : Training loss: 0.11952462639428035 Test loss: 0.11951162950661316\n",
      "Epoch 13 : Training loss: 0.11895884053694142 Test loss: 0.1189447880691247\n",
      "Epoch 14 : Training loss: 0.1184779086808359 Test loss: 0.11846406847261244\n",
      "Epoch 15 : Training loss: 0.11806721001322422 Test loss: 0.11805456576535728\n",
      "Epoch 16 : Training loss: 0.11771494463344766 Test loss: 0.1177042407772282\n",
      "Epoch 17 : Training loss: 0.11741152468442541 Test loss: 0.11740330768693111\n",
      "Epoch 18 : Training loss: 0.11714911089080114 Test loss: 0.11714376586487688\n",
      "Epoch 19 : Training loss: 0.11692125687270136 Test loss: 0.11691903917728272\n"
     ]
    }
   ],
   "source": [
    "# We run GD step times per epoch, for epochs epochs (same as running GD for epochs*step just lets us print intermediate results)\n",
    "w_GD, epochs, step, gamma = np.zeros(61), 20, 100, 1e-4\n",
    "loss_tr_GD = []\n",
    "loss_te_GD = []\n",
    "for i in range((int)(epochs)):\n",
    "    w_GD, loss_tr = mean_squared_error_gd(y_tr, tx_tr, w_GD, step, gamma)\n",
    "    loss_te = compute_mse(y_te, tx_te, w_GD)\n",
    "    loss_tr_GD.append(loss_tr)\n",
    "    loss_te_GD.append(loss_te)\n",
    "    print(f\"Epoch {i} : Training loss: {loss_tr} Test loss: {loss_te}\")"
   ]
  },
  {
   "cell_type": "markdown",
   "id": "26a94377",
   "metadata": {},
   "source": [
    "#### Plotting the resulting losses"
   ]
  },
  {
   "cell_type": "code",
   "execution_count": 17,
   "id": "10adec5c",
   "metadata": {},
   "outputs": [
    {
     "data": {
      "text/plain": [
       "[<matplotlib.lines.Line2D at 0x19004623af0>]"
      ]
     },
     "execution_count": 17,
     "metadata": {},
     "output_type": "execute_result"
    },
    {
     "data": {
      "image/png": "[encoded data removed]",
      "text/plain": [
       "<Figure size 640x480 with 1 Axes>"
      ]
     },
     "metadata": {},
     "output_type": "display_data"
    }
   ],
   "source": [
    "plt.plot(range(len(loss_tr_GD)), loss_tr_GD, c='red')\n",
    "plt.plot(range(len(loss_te_GD)), loss_te_GD, c='blue')"
   ]
  },
  {
   "cell_type": "markdown",
   "id": "1549d116",
   "metadata": {},
   "source": [
    "#### Calculating the accuracy on the test set (with predictions = -1 or 1)"
   ]
  },
  {
   "cell_type": "code",
   "execution_count": 18,
   "id": "cd7ed80e",
   "metadata": {},
   "outputs": [
    {
     "name": "stdout",
     "output_type": "stream",
     "text": [
      "Accuracy for these w: 34.292%\n"
     ]
    }
   ],
   "source": [
    "accuracy = compute_accuracy(tx_te, y_te, w_GD, 0)\n",
    "print(f\"Accuracy for these w: {accuracy*100}%\")"
   ]
  },
  {
   "cell_type": "code",
   "execution_count": 19,
   "id": "70bc433e",
   "metadata": {},
   "outputs": [],
   "source": [
    "x_test = replace_min_999_by_col_mean(x_test) # Handle invalid values\n",
    "\n",
    "x_test, mean_x_test, std_x_test = standardize(x_test) # Standardize x\n",
    "\n",
    "tx_test = build_poly(x_test, 2) # build polynomial expansion (with bias) TODO check poly exp works\n",
    "\n",
    "y_hat = build_prediction(tx_test, w_GD, 0.4) # threshold of 0.4 found experimentally - mention in report\n",
    "write_to_csv(np.column_stack((y_indexes, y_hat)), \"test_output.csv\")"
   ]
  },
  {
   "cell_type": "markdown",
   "id": "b1b9588c",
   "metadata": {},
   "source": [
    "### Linear regression using stochastic gradient descent"
   ]
  },
  {
   "cell_type": "code",
   "execution_count": 21,
   "id": "40630c7f",
   "metadata": {},
   "outputs": [
    {
     "name": "stdout",
     "output_type": "stream",
     "text": [
      "Epoch 0 : Training loss: 0.16023061895149335 Test loss: 0.15290355767082628\n",
      "Epoch 1 : Training loss: 0.19136618989615975 Test loss: 0.15613011860824733\n",
      "Epoch 2 : Training loss: 0.18533968739943577 Test loss: 0.14658033493516615\n",
      "Epoch 3 : Training loss: 0.2046858823789182 Test loss: 0.14587288297535161\n",
      "Epoch 4 : Training loss: 0.18351915915385614 Test loss: 0.13459699184958407\n",
      "Epoch 5 : Training loss: 0.17960861954050683 Test loss: 0.1303445093235465\n",
      "Epoch 6 : Training loss: 0.20663021519073124 Test loss: 0.12891441889365768\n",
      "Epoch 7 : Training loss: 0.21229363356775335 Test loss: 0.12714846599312188\n",
      "Epoch 8 : Training loss: 0.24728734917784523 Test loss: 0.12587483070852795\n",
      "Epoch 9 : Training loss: 0.18751276974851133 Test loss: 0.1285200374576835\n"
     ]
    }
   ],
   "source": [
    "w_SGD, epochs, step, gamma = np.zeros(61), 10, 100, 1e-4\n",
    "for i in range((int)(epochs)):\n",
    "    w_SGD, loss_tr = mean_squared_error_sgd(y_tr, tx_tr, w_SGD, step, gamma)\n",
    "    loss_te = compute_mse(y_te, tx_te, w_SGD)\n",
    "    print(f\"Epoch {i} : Training loss: {loss_tr} Test loss: {loss_te}\")"
   ]
  },
  {
   "cell_type": "markdown",
   "id": "120442c2",
   "metadata": {},
   "source": [
    "#### Calculating the accuracy on the test set (with predictions = 0 or 1)"
   ]
  },
  {
   "cell_type": "code",
   "execution_count": 22,
   "id": "5ac680a8",
   "metadata": {},
   "outputs": [
    {
     "name": "stdout",
     "output_type": "stream",
     "text": [
      "Accuracy for these w: 64.97800000000001%\n"
     ]
    }
   ],
   "source": [
    "y_hat_cont = tx_te@w_SGD\n",
    "y_hat = [1 if yi > 0.40 else 0 for yi in y_hat_cont]\n",
    "accuracy = 1-abs(y_te-y_hat).mean()\n",
    "print(f\"Accuracy for these w: {accuracy*100}%\")"
   ]
  },
  {
   "cell_type": "markdown",
   "id": "0c498d12",
   "metadata": {},
   "source": [
    "### Least squares"
   ]
  },
  {
   "cell_type": "code",
   "execution_count": 23,
   "id": "3729fcfa",
   "metadata": {},
   "outputs": [
    {
     "name": "stdout",
     "output_type": "stream",
     "text": [
      "Training loss: 0.11257695856591776\n",
      "Test loss: 0.19532723606021726\n"
     ]
    }
   ],
   "source": [
    "w_LS, loss_tr = least_squares(y_tr, tx_tr)\n",
    "loss_te = compute_mse(y_te, tx_te, w_LS)\n",
    "print(f\"Training loss: {loss_tr}\\nTest loss: {loss_te}\")"
   ]
  },
  {
   "cell_type": "code",
   "execution_count": 24,
   "id": "d2cde125",
   "metadata": {},
   "outputs": [
    {
     "name": "stdout",
     "output_type": "stream",
     "text": [
      "Accuracy for these w: 53.205999999999996%\n"
     ]
    }
   ],
   "source": [
    "y_hat_cont = tx_te@w_LS\n",
    "y_hat = [1 if yi > 0.45 else 0 for yi in y_hat_cont]\n",
    "accuracy = 1-abs(y_te-y_hat).mean()\n",
    "print(f\"Accuracy for these w: {accuracy*100}%\")"
   ]
  },
  {
   "cell_type": "markdown",
   "id": "9557525a",
   "metadata": {},
   "source": [
    "### Ridge regression"
   ]
  },
  {
   "cell_type": "code",
   "execution_count": 25,
   "id": "741e5c42",
   "metadata": {},
   "outputs": [
    {
     "name": "stdout",
     "output_type": "stream",
     "text": [
      "Training loss: 0.11382698184738475\n",
      "\n"
     ]
    }
   ],
   "source": [
    "lambda_ = 0.1\n",
    "w_REG, loss_tr = ridge_regression(y_tr, tx_tr, lambda_)\n",
    "print(f\"Training loss: {loss_tr}\\n\")"
   ]
  },
  {
   "cell_type": "code",
   "execution_count": 26,
   "id": "c137ae3d",
   "metadata": {},
   "outputs": [
    {
     "name": "stdout",
     "output_type": "stream",
     "text": [
      "Accuracy for these w: 65.16999999999999%\n"
     ]
    }
   ],
   "source": [
    "y_hat_cont = tx_te@w_REG\n",
    "y_hat = [1 if yi > 0.44 else 0 for yi in y_hat_cont]\n",
    "accuracy = 1-abs(y_te-y_hat).mean()\n",
    "print(f\"Accuracy for these w: {accuracy*100}%\")"
   ]
  },
  {
   "cell_type": "markdown",
   "id": "d51d88db",
   "metadata": {},
   "source": [
    "### Logistic regression using gradient descent or SGD (y ∈ {0, 1})"
   ]
  },
  {
   "cell_type": "code",
   "execution_count": 30,
   "id": "77ab45cd",
   "metadata": {},
   "outputs": [
    {
     "name": "stdout",
     "output_type": "stream",
     "text": [
      "Epoch 0 : Training loss: 0.6493604363450861 Test loss: 0.6496570359509891\n",
      "Epoch 1 : Training loss: 0.6460065635306081 Test loss: 0.6463286953649794\n",
      "Epoch 2 : Training loss: 0.6452360467491102 Test loss: 0.6455572838911496\n",
      "Epoch 3 : Training loss: 0.6448999849220696 Test loss: 0.6452291269348456\n",
      "Epoch 4 : Training loss: 0.6446826227149361 Test loss: 0.6450235118755325\n",
      "Epoch 5 : Training loss: 0.6445175321641884 Test loss: 0.6448692990478804\n",
      "Epoch 6 : Training loss: 0.6443840203721461 Test loss: 0.6447446419807523\n",
      "Epoch 7 : Training loss: 0.6442729724173362 Test loss: 0.6446406442514742\n",
      "Epoch 8 : Training loss: 0.644179243188401 Test loss: 0.644552632022324\n",
      "Epoch 9 : Training loss: 0.6440994018704608 Test loss: 0.6444775714143599\n",
      "Epoch 10 : Training loss: 0.6440309168639311 Test loss: 0.6444132078125301\n",
      "Epoch 11 : Training loss: 0.6439718146146486 Test loss: 0.6443577494757108\n",
      "Epoch 12 : Training loss: 0.6439205128376433 Test loss: 0.6443097320549002\n",
      "Epoch 13 : Training loss: 0.6438757244252273 Test loss: 0.644267946066296\n",
      "Epoch 14 : Training loss: 0.6438363938704575 Test loss: 0.6442313886744211\n",
      "Epoch 15 : Training loss: 0.6438016511520664 Test loss: 0.6441992270163517\n",
      "Epoch 16 : Training loss: 0.6437707764824256 Test loss: 0.6441707686171576\n",
      "Epoch 17 : Training loss: 0.6437431725864685 Test loss: 0.6441454370627478\n",
      "Epoch 18 : Training loss: 0.6437183425603478 Test loss: 0.6441227519165311\n",
      "Epoch 19 : Training loss: 0.6436958720217081 Test loss: 0.6441023121489606\n",
      "Epoch 20 : Training loss: 0.6436754146309422 Test loss: 0.6440837824817507\n",
      "Epoch 21 : Training loss: 0.6436566802937203 Test loss: 0.6440668821414083\n",
      "Epoch 22 : Training loss: 0.6436394255138173 Test loss: 0.6440513755963857\n",
      "Epoch 23 : Training loss: 0.6436234454806549 Test loss: 0.6440370649229588\n"
     ]
    },
    {
     "ename": "KeyboardInterrupt",
     "evalue": "",
     "output_type": "error",
     "traceback": [
      "\u001b[1;31m---------------------------------------------------------------------------\u001b[0m",
      "\u001b[1;31mKeyboardInterrupt\u001b[0m                         Traceback (most recent call last)",
      "Input \u001b[1;32mIn [30]\u001b[0m, in \u001b[0;36m<cell line: 5>\u001b[1;34m()\u001b[0m\n\u001b[0;32m      4\u001b[0m loss_te_GD_log \u001b[38;5;241m=\u001b[39m []\n\u001b[0;32m      5\u001b[0m \u001b[38;5;28;01mfor\u001b[39;00m i \u001b[38;5;129;01min\u001b[39;00m \u001b[38;5;28mrange\u001b[39m((\u001b[38;5;28mint\u001b[39m)(epochs)):\n\u001b[1;32m----> 6\u001b[0m     w_GD_log, loss_tr \u001b[38;5;241m=\u001b[39m \u001b[43mlogistic_regression\u001b[49m\u001b[43m(\u001b[49m\u001b[43my_tr\u001b[49m\u001b[43m,\u001b[49m\u001b[43m \u001b[49m\u001b[43mtx_tr\u001b[49m\u001b[43m,\u001b[49m\u001b[43m \u001b[49m\u001b[43mw_GD_log\u001b[49m\u001b[43m,\u001b[49m\u001b[43m \u001b[49m\u001b[43mstep\u001b[49m\u001b[43m,\u001b[49m\u001b[43m \u001b[49m\u001b[43mgamma\u001b[49m\u001b[43m)\u001b[49m \u001b[38;5;66;03m# TODO this leads to some NaNs\u001b[39;00m\n\u001b[0;32m      7\u001b[0m     loss_te \u001b[38;5;241m=\u001b[39m compute_log_loss(y_te, tx_te, w_GD_log)\n\u001b[0;32m      8\u001b[0m     loss_tr_GD_log\u001b[38;5;241m.\u001b[39mappend(loss_tr)\n",
      "File \u001b[1;32m~\\Desktop\\python_workspace\\ML_MA\\ml-project-1-mlmybeloved\\implementations.py:350\u001b[0m, in \u001b[0;36mlogistic_regression\u001b[1;34m(y, tx, initial_w, max_iters, gamma)\u001b[0m\n\u001b[0;32m    348\u001b[0m w \u001b[38;5;241m=\u001b[39m initial_w\n\u001b[0;32m    349\u001b[0m \u001b[38;5;28;01mfor\u001b[39;00m n_iter \u001b[38;5;129;01min\u001b[39;00m \u001b[38;5;28mrange\u001b[39m(max_iters):\n\u001b[1;32m--> 350\u001b[0m     gradient \u001b[38;5;241m=\u001b[39m \u001b[43mcompute_log_gradient\u001b[49m\u001b[43m(\u001b[49m\u001b[43my\u001b[49m\u001b[43m,\u001b[49m\u001b[43m \u001b[49m\u001b[43mtx\u001b[49m\u001b[43m,\u001b[49m\u001b[43m \u001b[49m\u001b[43mw\u001b[49m\u001b[43m)\u001b[49m\n\u001b[0;32m    351\u001b[0m     w \u001b[38;5;241m=\u001b[39m w \u001b[38;5;241m-\u001b[39m gamma\u001b[38;5;241m*\u001b[39mgradient\n\u001b[0;32m    352\u001b[0m loss \u001b[38;5;241m=\u001b[39m compute_log_loss(y, tx, w)\n",
      "File \u001b[1;32m~\\Desktop\\python_workspace\\ML_MA\\ml-project-1-mlmybeloved\\implementations.py:227\u001b[0m, in \u001b[0;36mcompute_log_gradient\u001b[1;34m(y, tx, w)\u001b[0m\n\u001b[0;32m    215\u001b[0m \u001b[38;5;124;03m\"\"\"Computes the logistic gradient at w.\u001b[39;00m\n\u001b[0;32m    216\u001b[0m \u001b[38;5;124;03m    \u001b[39;00m\n\u001b[0;32m    217\u001b[0m \u001b[38;5;124;03mArgs:\u001b[39;00m\n\u001b[1;32m   (...)\u001b[0m\n\u001b[0;32m    223\u001b[0m \u001b[38;5;124;03m    A numpy array of shape (D,) containing the gradient of the loss at w.\u001b[39;00m\n\u001b[0;32m    224\u001b[0m \u001b[38;5;124;03m\"\"\"\u001b[39;00m\n\u001b[0;32m    226\u001b[0m N \u001b[38;5;241m=\u001b[39m y\u001b[38;5;241m.\u001b[39mshape[\u001b[38;5;241m0\u001b[39m]\n\u001b[1;32m--> 227\u001b[0m \u001b[38;5;28;01mreturn\u001b[39;00m \u001b[38;5;241;43m1\u001b[39;49m\u001b[38;5;241;43m/\u001b[39;49m\u001b[43mN\u001b[49m\u001b[38;5;241;43m*\u001b[39;49m\u001b[43mtx\u001b[49m\u001b[38;5;241;43m.\u001b[39;49m\u001b[43mT\u001b[49m\u001b[38;5;241m@\u001b[39m(sigmoid(tx\u001b[38;5;129m@w\u001b[39m)\u001b[38;5;241m-\u001b[39my)\n",
      "\u001b[1;31mKeyboardInterrupt\u001b[0m: "
     ]
    }
   ],
   "source": [
    "# We run GD step times per epoch, for epochs epochs (same as running GD for epochs*step just lets us print intermediate results)\n",
    "w_GD_log, epochs, step, gamma = np.zeros(61), 100, 50, 1e-2\n",
    "loss_tr_GD_log = []\n",
    "loss_te_GD_log = []\n",
    "for i in range((int)(epochs)):\n",
    "    w_GD_log, loss_tr = logistic_regression(y_tr, tx_tr, w_GD_log, step, gamma) # TODO this leads to some NaNs\n",
    "    loss_te = compute_log_loss(y_te, tx_te, w_GD_log)\n",
    "    loss_tr_GD_log.append(loss_tr)\n",
    "    loss_te_GD_log.append(loss_te)\n",
    "    print(f\"Epoch {i} : Training loss: {loss_tr} Test loss: {loss_te}\")"
   ]
  },
  {
   "cell_type": "markdown",
   "id": "261c9446",
   "metadata": {},
   "source": [
    "#### Plotting the resulting losses"
   ]
  },
  {
   "cell_type": "code",
   "execution_count": 31,
   "id": "4c5adc13",
   "metadata": {},
   "outputs": [
    {
     "data": {
      "text/plain": [
       "[<matplotlib.lines.Line2D at 0x19008466250>]"
      ]
     },
     "execution_count": 31,
     "metadata": {},
     "output_type": "execute_result"
    },
    {
     "data": {
      "image/png": "[encoded data removed]",
      "text/plain": [
       "<Figure size 640x480 with 1 Axes>"
      ]
     },
     "metadata": {},
     "output_type": "display_data"
    }
   ],
   "source": [
    "plt.plot(range(len(loss_tr_GD_log)), loss_tr_GD_log, c='red')\n",
    "plt.plot(range(len(loss_te_GD_log)), loss_te_GD_log, c='blue')"
   ]
  },
  {
   "cell_type": "markdown",
   "id": "035f5f37",
   "metadata": {},
   "source": [
    "#### Calculating the accuracy on the test set (with predictions = -1 or 1)"
   ]
  },
  {
   "cell_type": "code",
   "execution_count": 32,
   "id": "7efad889",
   "metadata": {},
   "outputs": [
    {
     "name": "stdout",
     "output_type": "stream",
     "text": [
      "Accuracy for these w: 65.70400000000001%\n"
     ]
    }
   ],
   "source": [
    "accuracy = compute_accuracy_log(tx_te, y_te, w_GD_log, threshold=0.5)\n",
    "print(f\"Accuracy for these w: {accuracy*100}%\")"
   ]
  },
  {
   "cell_type": "code",
   "execution_count": 33,
   "id": "2e22dd16",
   "metadata": {},
   "outputs": [],
   "source": [
    "x_test = replace_min_999_by_col_mean(x_test) # Handle invalid values\n",
    "\n",
    "x_test, mean_x_test, std_x_test = standardize(x_test) # Standardize x\n",
    "\n",
    "tx_test = build_poly(x_test, 2) # TODO check it works\n",
    "\n",
    "y_hat = build_prediction_log(tx_test, w_GD_log, threshold=0.5, minus_one = True)\n",
    "write_to_csv(np.column_stack((y_indexes, y_hat)), \"test_output.csv\")"
   ]
  },
  {
   "cell_type": "markdown",
   "id": "038db552",
   "metadata": {},
   "source": [
    "### Regularized logistic regression using gradient descent or SGD (y ∈ {0, 1}, with regularization term λ∥w∥**2)"
   ]
  },
  {
   "cell_type": "code",
   "execution_count": null,
   "id": "b77d3e58",
   "metadata": {},
   "outputs": [],
   "source": []
  }
 ],
 "metadata": {
  "kernelspec": {
   "display_name": "Python 3 (ipykernel)",
   "language": "python",
   "name": "python3"
  },
  "language_info": {
   "codemirror_mode": {
    "name": "ipython",
    "version": 3
   },
   "file_extension": ".py",
   "mimetype": "text/x-python",
   "name": "python",
   "nbconvert_exporter": "python",
   "pygments_lexer": "ipython3",
   "version": "3.8.13"
  }
 },
 "nbformat": 4,
 "nbformat_minor": 5
}
